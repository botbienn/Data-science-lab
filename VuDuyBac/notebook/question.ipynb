{
 "cells": [
  {
   "cell_type": "markdown",
   "metadata": {},
   "source": [
    "# Câu hỏi: những thuộc tính nào ảnh hưởng đến độ ẩm của không khí ? dự đoán độ ẩm không khí vào một thời điểm cụ thể. \n",
    "\n",
    "## Cách trả lời câu hỏi: \n",
    "- Đối với mỗi thuộc tính trong dataset (trừ Address, datetime) ta sẽ tính hệ số tương quan đối với thuộc tính độ ẩm (humidity) \n",
    "- Chọn ra những thuộc tính có hệ số tương quan lớn hơn hoặc bằng 0.7\n",
    "- Sử dụng một số mô hình hồi quy để tính toán độ ẩm tương đối của 1 tỉnh trong 1 ngày đó \n",
    "\n",
    "## Ý nghĩa của việc trả lời câu hỏi: \n",
    "- Vì độ ẩm sẽ ảnh hưởng tới sức khỏe của người nên dự đoán được độ ẩm sẽ đem lại các kế hoạch bảo vệ sức khỏe \n",
    "- Độ ẩm cao sẽ ảnh hưởng tới một số các thiết bị điện tử, gây nhiều ẩm mốc, khó bảo quản thực phẩm, tụ nước ở các bề mặt ,..."
   ]
  }
 ],
 "metadata": {
  "language_info": {
   "name": "python"
  }
 },
 "nbformat": 4,
 "nbformat_minor": 2
}
