{
 "cells": [
  {
   "cell_type": "code",
   "execution_count": 2,
   "metadata": {},
   "outputs": [],
   "source": [
    "import pandas as pd "
   ]
  },
  {
   "cell_type": "code",
   "execution_count": 3,
   "metadata": {},
   "outputs": [
    {
     "name": "stdout",
     "output_type": "stream",
     "text": [
      "Index(['Unnamed: 0.1', 'Unnamed: 0', 'datetime', 'datetimeEpoch', 'tempmax',\n",
      "       'tempmin', 'temp', 'feelslikemax', 'feelslikemin', 'feelslike', 'dew',\n",
      "       'humidity', 'precip', 'precipprob', 'precipcover', 'preciptype', 'snow',\n",
      "       'snowdepth', 'windgust', 'windspeed', 'winddir', 'pressure',\n",
      "       'cloudcover', 'visibility', 'solarradiation', 'solarenergy', 'uvindex',\n",
      "       'sunrise', 'sunriseEpoch', 'sunset', 'sunsetEpoch', 'moonphase',\n",
      "       'conditions', 'description', 'icon', 'stations', 'source',\n",
      "       'severerisk'],\n",
      "      dtype='object')\n"
     ]
    }
   ],
   "source": [
    "raw_df = pd.read_csv('LS-SL/LangSon.csv')\n",
    "print(raw_df.columns)"
   ]
  },
  {
   "cell_type": "code",
   "execution_count": 9,
   "metadata": {},
   "outputs": [],
   "source": [
    "location_prefix = ['LangSon', 'SonLa']\n",
    "location_address = ['Lạng Sơn', 'Sơn La']\n",
    "location_address = {location_prefix[i] : location_address[i] for i in range(2)} \n",
    "\n",
    "save_cols = [\"datetime\" , \"datetimeEpoch\" , \"tempmax\"    ,\n",
    "            \"tempmin\"   , \"temp\"          , \"dew\"        , \"humidity\",\n",
    "            \"precip\"    , \"precipprob\"    , \"precipcover\",\n",
    "            \"preciptype\", \"windgust\"      , \"windspeed\"  ,\n",
    "            \"winddir\"   , \"pressure\"      , \"cloudcover\" ,\n",
    "            \"visibility\", \"solarradiation\", \"solarenergy\",\n",
    "            \"uvindex\"   , \"moonphase\"]\n",
    "\n",
    "\n",
    "for location in location_prefix: \n",
    "    raw_df = pd.read_csv(f'../LS-SL/{location}.csv')\n",
    "    # Remove unnecessarry columns \n",
    "    raw_df = raw_df[save_cols]\n",
    "    row_count = len(raw_df.index)\n",
    "\n",
    "    # Renaming the columns name\n",
    "    upper_col_name = [col_name[0].upper() + col_name[1:] for col_name in save_cols]\n",
    "    raw_df.rename({save_cols[i] : upper_col_name[i] for i in range(len(save_cols))})\n",
    "\n",
    "    # Create new address list \n",
    "    address_list = [location_address[location] for _ in range(row_count)]\n",
    "    # Add new address column to the data frame\n",
    "    raw_df = raw_df.assign(Address = pd.Series(address_list))\n",
    "    # Rearranging columns \n",
    "    col_order = raw_df.columns.tolist()\n",
    "    col_order = col_order[-1:] + col_order[:-1]\n",
    "    raw_df = raw_df[col_order]\n",
    "\n",
    "    raw_df.to_csv(f'{location}.csv')\n"
   ]
  }
 ],
 "metadata": {
  "kernelspec": {
   "display_name": "base",
   "language": "python",
   "name": "python3"
  },
  "language_info": {
   "codemirror_mode": {
    "name": "ipython",
    "version": 3
   },
   "file_extension": ".py",
   "mimetype": "text/x-python",
   "name": "python",
   "nbconvert_exporter": "python",
   "pygments_lexer": "ipython3",
   "version": "3.12.2"
  }
 },
 "nbformat": 4,
 "nbformat_minor": 2
}
