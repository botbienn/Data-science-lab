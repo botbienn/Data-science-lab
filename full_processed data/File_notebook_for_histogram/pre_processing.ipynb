{
 "cells": [
  {
   "cell_type": "markdown",
   "metadata": {},
   "source": [
    "# Cách tính toán các thông số thống kê mô tả và vẽ biểu đồ histogram cho từng đặc trưng\n"
   ]
  },
  {
   "cell_type": "markdown",
   "metadata": {},
   "source": [
    "---"
   ]
  },
  {
   "cell_type": "markdown",
   "metadata": {},
   "source": [
    "## Import"
   ]
  },
  {
   "cell_type": "code",
   "execution_count": null,
   "metadata": {},
   "outputs": [],
   "source": [
    "import pandas as pd\n",
    "import os\n",
    "import matplotlib.pyplot as plt\n",
    "import seaborn as sns"
   ]
  },
  {
   "cell_type": "markdown",
   "metadata": {},
   "source": [
    "## Chọn Thành phố Hồ Chí Ming - Đại diện cho vùng Đông Nam Bộ"
   ]
  },
  {
   "cell_type": "markdown",
   "metadata": {},
   "source": [
    "### Read data from file HoChiMinh_DongNamBo.csv"
   ]
  },
  {
   "cell_type": "code",
   "execution_count": null,
   "metadata": {},
   "outputs": [],
   "source": [
    "name = 'HoChiMinh_DongNamBo.csv'\n",
    "df = pd.read_csv(os.path.join(\"../Data\",name),sep=',', encoding='utf-8')"
   ]
  },
  {
   "cell_type": "code",
   "execution_count": null,
   "metadata": {},
   "outputs": [],
   "source": [
    "# Test\n",
    "df.head()"
   ]
  },
  {
   "cell_type": "markdown",
   "metadata": {},
   "source": [
    "### Data type"
   ]
  },
  {
   "cell_type": "code",
   "execution_count": null,
   "metadata": {},
   "outputs": [],
   "source": [
    "dtypes = df.dtypes"
   ]
  },
  {
   "cell_type": "code",
   "execution_count": null,
   "metadata": {},
   "outputs": [],
   "source": [
    "# Test\n",
    "dtypes"
   ]
  },
  {
   "cell_type": "markdown",
   "metadata": {},
   "source": [
    "### Phân tích thống kê"
   ]
  },
  {
   "cell_type": "code",
   "execution_count": null,
   "metadata": {},
   "outputs": [],
   "source": [
    "# Trả về dataframe chỉ có các cột là kiểu số\n",
    "df_numeric_cols = df.select_dtypes(include='float')"
   ]
  },
  {
   "cell_type": "code",
   "execution_count": null,
   "metadata": {},
   "outputs": [],
   "source": [
    "# Test\n",
    "df_numeric_cols.head()"
   ]
  },
  {
   "cell_type": "code",
   "execution_count": null,
   "metadata": {},
   "outputs": [],
   "source": [
    "descriptive_statistics = df_numeric_cols.describe().round(2)\n",
    "def missing_ratio(series):\n",
    "    return series.isnull().sum() / len(series) * 100\n",
    "m_ratio = missing_ratio(df_numeric_cols).round(2)\n",
    "\n",
    "descriptive_statistics.loc['missing_ratio'] = m_ratio\n",
    "descriptive_statistics"
   ]
  },
  {
   "cell_type": "markdown",
   "metadata": {},
   "source": [
    "### Vẽ histogram và xác định ngoại lại trên biểu đồ"
   ]
  },
  {
   "cell_type": "code",
   "execution_count": null,
   "metadata": {},
   "outputs": [],
   "source": [
    "# Tính IQR cho từng cột\n",
    "Q1 = df_numeric_cols.quantile(0.25)\n",
    "Q3 = df_numeric_cols.quantile(0.75)\n",
    "IQR = Q3 - Q1\n",
    "\n",
    "# Xác định ngưỡng để nhận diện ngoại lai\n",
    "lower_bound = Q1 - 1.5 * IQR\n",
    "upper_bound = Q3 + 1.5 * IQR\n",
    "\n",
    "# Nhận diện ngoại lai: Dữ liệu nằm ngoài khoảng [lower_bound, upper_bound]\n",
    "outliers = (df_numeric_cols < lower_bound) | (df_numeric_cols > upper_bound)\n",
    "\n",
    "# Vẽ histogram với các ngoại lai được đánh dấu\n",
    "n_cols = len(df_numeric_cols.columns)\n",
    "fig, axes = plt.subplots(n_cols, 1, figsize=(12, 4 * n_cols))\n",
    "\n",
    "# Nếu chỉ có một cột, axes sẽ không phải là danh sách mà là một đối tượng đơn lẻ\n",
    "if n_cols == 1:\n",
    "    axes = [axes]\n",
    "\n",
    "for i, col in enumerate(df_numeric_cols.columns):\n",
    "    # Vẽ histogram với KDE\n",
    "    sns.histplot(df_numeric_cols[col], bins=20, kde=True, ax=axes[i])\n",
    "    \n",
    "    # Lọc các ngoại lai cho cột hiện tại\n",
    "    outliers_col = df_numeric_cols[col][outliers[col]]\n",
    "    \n",
    "    # Đánh dấu ngoại lai trên histogram bằng điểm đỏ\n",
    "    axes[i].scatter(outliers_col, [0] * len(outliers_col), color='red', label='Outliers', zorder=5)\n",
    "    \n",
    "    # Cài đặt tiêu đề và nhãn\n",
    "    axes[i].set_title(f'Histogram of {col} with Outliers')\n",
    "    axes[i].set_xlabel(col)\n",
    "    axes[i].set_ylabel('Frequency')\n",
    "    axes[i].legend()\n",
    "\n",
    "# Tinh chỉnh layout và hiển thị biểu đồ\n",
    "plt.tight_layout()\n",
    "plt.show()\n",
    "\n",
    "# Tạo báo cáo số lượng ngoại lai trong từng cột\n",
    "outliers_summary = outliers.sum()\n",
    "print(\"Số lượng ngoại lai trong từng cột:\")\n",
    "print(outliers_summary)"
   ]
  },
  {
   "cell_type": "markdown",
   "metadata": {},
   "source": [
    "### Read data from file BenTre_DongBangSongCuuLong.csv"
   ]
  },
  {
   "cell_type": "code",
   "execution_count": null,
   "metadata": {},
   "outputs": [],
   "source": [
    "name = 'BenTre_DongBangSongCuuLong.csv'\n",
    "df = pd.read_csv(os.path.join(\"../Data\",name),sep=',', encoding='utf-8')"
   ]
  },
  {
   "cell_type": "code",
   "execution_count": null,
   "metadata": {},
   "outputs": [],
   "source": [
    "# Test\n",
    "df.head()"
   ]
  },
  {
   "cell_type": "markdown",
   "metadata": {},
   "source": [
    "### Data type"
   ]
  },
  {
   "cell_type": "code",
   "execution_count": null,
   "metadata": {},
   "outputs": [],
   "source": [
    "dtypes = df.dtypes"
   ]
  },
  {
   "cell_type": "code",
   "execution_count": null,
   "metadata": {},
   "outputs": [],
   "source": [
    "# Test\n",
    "dtypes"
   ]
  },
  {
   "cell_type": "markdown",
   "metadata": {},
   "source": [
    "### Phân tích thống kê"
   ]
  },
  {
   "cell_type": "code",
   "execution_count": null,
   "metadata": {},
   "outputs": [],
   "source": [
    "# Trả về dataframe chỉ có các cột là kiểu số\n",
    "df_numeric_cols = df.select_dtypes(include='float')"
   ]
  },
  {
   "cell_type": "code",
   "execution_count": null,
   "metadata": {},
   "outputs": [],
   "source": [
    "# Test\n",
    "df_numeric_cols.head()"
   ]
  },
  {
   "cell_type": "code",
   "execution_count": null,
   "metadata": {},
   "outputs": [],
   "source": [
    "descriptive_statistics = df_numeric_cols.describe().round(2)\n",
    "def missing_ratio(series):\n",
    "    return series.isnull().sum() / len(series) * 100\n",
    "m_ratio = missing_ratio(df_numeric_cols).round(2)\n",
    "\n",
    "descriptive_statistics.loc['missing_ratio'] = m_ratio\n",
    "descriptive_statistics"
   ]
  },
  {
   "cell_type": "markdown",
   "metadata": {},
   "source": [
    "### Vẽ histogram và xác định ngoại lại trên biểu đồ"
   ]
  },
  {
   "cell_type": "code",
   "execution_count": null,
   "metadata": {},
   "outputs": [],
   "source": [
    "# Tính IQR cho từng cột\n",
    "Q1 = df_numeric_cols.quantile(0.25)\n",
    "Q3 = df_numeric_cols.quantile(0.75)\n",
    "IQR = Q3 - Q1\n",
    "\n",
    "# Xác định ngưỡng để nhận diện ngoại lai\n",
    "lower_bound = Q1 - 1.5 * IQR\n",
    "upper_bound = Q3 + 1.5 * IQR\n",
    "\n",
    "# Nhận diện ngoại lai: Dữ liệu nằm ngoài khoảng [lower_bound, upper_bound]\n",
    "outliers = (df_numeric_cols < lower_bound) | (df_numeric_cols > upper_bound)\n",
    "\n",
    "# Vẽ histogram với các ngoại lai được đánh dấu\n",
    "n_cols = len(df_numeric_cols.columns)\n",
    "fig, axes = plt.subplots(n_cols, 1, figsize=(12, 4 * n_cols))\n",
    "\n",
    "# Nếu chỉ có một cột, axes sẽ không phải là danh sách mà là một đối tượng đơn lẻ\n",
    "if n_cols == 1:\n",
    "    axes = [axes]\n",
    "\n",
    "for i, col in enumerate(df_numeric_cols.columns):\n",
    "    # Vẽ histogram với KDE\n",
    "    sns.histplot(df_numeric_cols[col], bins=20, kde=True, ax=axes[i])\n",
    "    \n",
    "    # Lọc các ngoại lai cho cột hiện tại\n",
    "    outliers_col = df_numeric_cols[col][outliers[col]]\n",
    "    \n",
    "    # Đánh dấu ngoại lai trên histogram bằng điểm đỏ\n",
    "    axes[i].scatter(outliers_col, [0] * len(outliers_col), color='red', label='Outliers', zorder=5)\n",
    "    \n",
    "    # Cài đặt tiêu đề và nhãn\n",
    "    axes[i].set_title(f'Histogram of {col} with Outliers')\n",
    "    axes[i].set_xlabel(col)\n",
    "    axes[i].set_ylabel('Frequency')\n",
    "    axes[i].legend()\n",
    "\n",
    "# Tinh chỉnh layout và hiển thị biểu đồ\n",
    "plt.tight_layout()\n",
    "plt.show()\n",
    "\n",
    "# Tạo báo cáo số lượng ngoại lai trong từng cột\n",
    "outliers_summary = outliers.sum()\n",
    "print(\"Số lượng ngoại lai trong từng cột:\")\n",
    "print(outliers_summary)"
   ]
  },
  {
   "cell_type": "markdown",
   "metadata": {},
   "source": [
    "### Read data from file DaNang_NamTrungBo.csv"
   ]
  },
  {
   "cell_type": "code",
   "execution_count": null,
   "metadata": {},
   "outputs": [],
   "source": [
    "name = 'DaNang_NamTrungBo.csv'\n",
    "df = pd.read_csv(os.path.join(\"../Data\",name),sep=',', encoding='utf-8')"
   ]
  },
  {
   "cell_type": "code",
   "execution_count": null,
   "metadata": {},
   "outputs": [],
   "source": [
    "# Test\n",
    "df.head()"
   ]
  },
  {
   "cell_type": "markdown",
   "metadata": {},
   "source": [
    "### Data type"
   ]
  },
  {
   "cell_type": "code",
   "execution_count": null,
   "metadata": {},
   "outputs": [],
   "source": [
    "dtypes = df.dtypes"
   ]
  },
  {
   "cell_type": "code",
   "execution_count": null,
   "metadata": {},
   "outputs": [],
   "source": [
    "# Test\n",
    "dtypes"
   ]
  },
  {
   "cell_type": "markdown",
   "metadata": {},
   "source": [
    "### Phân tích thống kê"
   ]
  },
  {
   "cell_type": "code",
   "execution_count": null,
   "metadata": {},
   "outputs": [],
   "source": [
    "# Trả về dataframe chỉ có các cột là kiểu số\n",
    "df_numeric_cols = df.select_dtypes(include='float')"
   ]
  },
  {
   "cell_type": "code",
   "execution_count": null,
   "metadata": {},
   "outputs": [],
   "source": [
    "# Test\n",
    "df_numeric_cols.head()"
   ]
  },
  {
   "cell_type": "code",
   "execution_count": null,
   "metadata": {},
   "outputs": [],
   "source": [
    "descriptive_statistics = df_numeric_cols.describe().round(2)\n",
    "def missing_ratio(series):\n",
    "    return series.isnull().sum() / len(series) * 100\n",
    "m_ratio = missing_ratio(df_numeric_cols).round(2)\n",
    "\n",
    "descriptive_statistics.loc['missing_ratio'] = m_ratio\n",
    "descriptive_statistics"
   ]
  },
  {
   "cell_type": "markdown",
   "metadata": {},
   "source": [
    "### Vẽ histogram"
   ]
  },
  {
   "cell_type": "code",
   "execution_count": null,
   "metadata": {},
   "outputs": [],
   "source": [
    "# Tính IQR cho từng cột\n",
    "Q1 = df_numeric_cols.quantile(0.25)\n",
    "Q3 = df_numeric_cols.quantile(0.75)\n",
    "IQR = Q3 - Q1\n",
    "\n",
    "# Xác định ngưỡng để nhận diện ngoại lai\n",
    "lower_bound = Q1 - 1.5 * IQR\n",
    "upper_bound = Q3 + 1.5 * IQR\n",
    "\n",
    "# Nhận diện ngoại lai: Dữ liệu nằm ngoài khoảng [lower_bound, upper_bound]\n",
    "outliers = (df_numeric_cols < lower_bound) | (df_numeric_cols > upper_bound)\n",
    "\n",
    "# Vẽ histogram với các ngoại lai được đánh dấu\n",
    "n_cols = len(df_numeric_cols.columns)\n",
    "fig, axes = plt.subplots(n_cols, 1, figsize=(12, 4 * n_cols))\n",
    "\n",
    "# Nếu chỉ có một cột, axes sẽ không phải là danh sách mà là một đối tượng đơn lẻ\n",
    "if n_cols == 1:\n",
    "    axes = [axes]\n",
    "\n",
    "for i, col in enumerate(df_numeric_cols.columns):\n",
    "    # Vẽ histogram với KDE\n",
    "    sns.histplot(df_numeric_cols[col], bins=20, kde=True, ax=axes[i])\n",
    "    \n",
    "    # Lọc các ngoại lai cho cột hiện tại\n",
    "    outliers_col = df_numeric_cols[col][outliers[col]]\n",
    "    \n",
    "    # Đánh dấu ngoại lai trên histogram bằng điểm đỏ\n",
    "    axes[i].scatter(outliers_col, [0] * len(outliers_col), color='red', label='Outliers', zorder=5)\n",
    "    \n",
    "    # Cài đặt tiêu đề và nhãn\n",
    "    axes[i].set_title(f'Histogram of {col} with Outliers')\n",
    "    axes[i].set_xlabel(col)\n",
    "    axes[i].set_ylabel('Frequency')\n",
    "    axes[i].legend()\n",
    "\n",
    "# Tinh chỉnh layout và hiển thị biểu đồ\n",
    "plt.tight_layout()\n",
    "plt.show()\n",
    "\n",
    "# Tạo báo cáo số lượng ngoại lai trong từng cột\n",
    "outliers_summary = outliers.sum()\n",
    "print(\"Số lượng ngoại lai trong từng cột:\")\n",
    "print(outliers_summary)"
   ]
  },
  {
   "cell_type": "markdown",
   "metadata": {},
   "source": [
    "### Read data from file HaNoi_DongBangSongHong.csv"
   ]
  },
  {
   "cell_type": "code",
   "execution_count": null,
   "metadata": {},
   "outputs": [],
   "source": [
    "name = 'HaNoi_DongBangSongHong.csv'\n",
    "df = pd.read_csv(os.path.join(\"../Data\",name),sep=',', encoding='utf-8')"
   ]
  },
  {
   "cell_type": "code",
   "execution_count": null,
   "metadata": {},
   "outputs": [],
   "source": [
    "# Test\n",
    "df.head()"
   ]
  },
  {
   "cell_type": "markdown",
   "metadata": {},
   "source": [
    "### Data type"
   ]
  },
  {
   "cell_type": "code",
   "execution_count": null,
   "metadata": {},
   "outputs": [],
   "source": [
    "dtypes = df.dtypes"
   ]
  },
  {
   "cell_type": "code",
   "execution_count": null,
   "metadata": {},
   "outputs": [],
   "source": [
    "# Test\n",
    "dtypes"
   ]
  },
  {
   "cell_type": "markdown",
   "metadata": {},
   "source": [
    "### Phân tích thống kê"
   ]
  },
  {
   "cell_type": "code",
   "execution_count": null,
   "metadata": {},
   "outputs": [],
   "source": [
    "# Trả về dataframe chỉ có các cột là kiểu số\n",
    "df_numeric_cols = df.select_dtypes(include='float')"
   ]
  },
  {
   "cell_type": "code",
   "execution_count": null,
   "metadata": {},
   "outputs": [],
   "source": [
    "# Test\n",
    "df_numeric_cols.head()"
   ]
  },
  {
   "cell_type": "code",
   "execution_count": null,
   "metadata": {},
   "outputs": [],
   "source": [
    "descriptive_statistics = df_numeric_cols.describe().round(2)\n",
    "def missing_ratio(series):\n",
    "    return series.isnull().sum() / len(series) * 100\n",
    "m_ratio = missing_ratio(df_numeric_cols).round(2)\n",
    "\n",
    "descriptive_statistics.loc['missing_ratio'] = m_ratio\n",
    "descriptive_statistics"
   ]
  },
  {
   "cell_type": "markdown",
   "metadata": {},
   "source": [
    "### Vẽ histogram và xác định ngoại lại trên biểu đồ"
   ]
  },
  {
   "cell_type": "code",
   "execution_count": null,
   "metadata": {},
   "outputs": [],
   "source": [
    "# Tính IQR cho từng cột\n",
    "Q1 = df_numeric_cols.quantile(0.25)\n",
    "Q3 = df_numeric_cols.quantile(0.75)\n",
    "IQR = Q3 - Q1\n",
    "\n",
    "# Xác định ngưỡng để nhận diện ngoại lai\n",
    "lower_bound = Q1 - 1.5 * IQR\n",
    "upper_bound = Q3 + 1.5 * IQR\n",
    "\n",
    "# Nhận diện ngoại lai: Dữ liệu nằm ngoài khoảng [lower_bound, upper_bound]\n",
    "outliers = (df_numeric_cols < lower_bound) | (df_numeric_cols > upper_bound)\n",
    "\n",
    "# Vẽ histogram với các ngoại lai được đánh dấu\n",
    "n_cols = len(df_numeric_cols.columns)\n",
    "fig, axes = plt.subplots(n_cols, 1, figsize=(12, 4 * n_cols))\n",
    "\n",
    "# Nếu chỉ có một cột, axes sẽ không phải là danh sách mà là một đối tượng đơn lẻ\n",
    "if n_cols == 1:\n",
    "    axes = [axes]\n",
    "\n",
    "for i, col in enumerate(df_numeric_cols.columns):\n",
    "    # Vẽ histogram với KDE\n",
    "    sns.histplot(df_numeric_cols[col], bins=20, kde=True, ax=axes[i])\n",
    "    \n",
    "    # Lọc các ngoại lai cho cột hiện tại\n",
    "    outliers_col = df_numeric_cols[col][outliers[col]]\n",
    "    \n",
    "    # Đánh dấu ngoại lai trên histogram bằng điểm đỏ\n",
    "    axes[i].scatter(outliers_col, [0] * len(outliers_col), color='red', label='Outliers', zorder=5)\n",
    "    \n",
    "    # Cài đặt tiêu đề và nhãn\n",
    "    axes[i].set_title(f'Histogram of {col} with Outliers')\n",
    "    axes[i].set_xlabel(col)\n",
    "    axes[i].set_ylabel('Frequency')\n",
    "    axes[i].legend()\n",
    "\n",
    "# Tinh chỉnh layout và hiển thị biểu đồ\n",
    "plt.tight_layout()\n",
    "plt.show()\n",
    "\n",
    "# Tạo báo cáo số lượng ngoại lai trong từng cột\n",
    "outliers_summary = outliers.sum()\n",
    "print(\"Số lượng ngoại lai trong từng cột:\")\n",
    "print(outliers_summary)"
   ]
  },
  {
   "cell_type": "markdown",
   "metadata": {},
   "source": [
    "### Read data from file LamDong_TayNguyen.csv"
   ]
  },
  {
   "cell_type": "code",
   "execution_count": null,
   "metadata": {},
   "outputs": [],
   "source": [
    "name = 'LamDong_TayNguyen.csv'\n",
    "df = pd.read_csv(os.path.join(\"../Data\",name),sep=',', encoding='utf-8')"
   ]
  },
  {
   "cell_type": "code",
   "execution_count": null,
   "metadata": {},
   "outputs": [],
   "source": [
    "# Test\n",
    "df.head()"
   ]
  },
  {
   "cell_type": "markdown",
   "metadata": {},
   "source": [
    "### Data type"
   ]
  },
  {
   "cell_type": "code",
   "execution_count": null,
   "metadata": {},
   "outputs": [],
   "source": [
    "dtypes = df.dtypes"
   ]
  },
  {
   "cell_type": "code",
   "execution_count": null,
   "metadata": {},
   "outputs": [],
   "source": [
    "# Test\n",
    "dtypes"
   ]
  },
  {
   "cell_type": "markdown",
   "metadata": {},
   "source": [
    "### Phân tích thống kê"
   ]
  },
  {
   "cell_type": "code",
   "execution_count": null,
   "metadata": {},
   "outputs": [],
   "source": [
    "# Trả về dataframe chỉ có các cột là kiểu số\n",
    "df_numeric_cols = df.select_dtypes(include='float')"
   ]
  },
  {
   "cell_type": "code",
   "execution_count": null,
   "metadata": {},
   "outputs": [],
   "source": [
    "# Test\n",
    "df_numeric_cols.head()"
   ]
  },
  {
   "cell_type": "code",
   "execution_count": null,
   "metadata": {},
   "outputs": [],
   "source": [
    "descriptive_statistics = df_numeric_cols.describe().round(2)\n",
    "def missing_ratio(series):\n",
    "    return series.isnull().sum() / len(series) * 100\n",
    "m_ratio = missing_ratio(df_numeric_cols).round(2)\n",
    "\n",
    "descriptive_statistics.loc['missing_ratio'] = m_ratio\n",
    "descriptive_statistics"
   ]
  },
  {
   "cell_type": "markdown",
   "metadata": {},
   "source": [
    "### Vẽ histogram và xác định ngoại lại trên biểu đồ"
   ]
  },
  {
   "cell_type": "code",
   "execution_count": null,
   "metadata": {},
   "outputs": [],
   "source": [
    "# Tính IQR cho từng cột\n",
    "Q1 = df_numeric_cols.quantile(0.25)\n",
    "Q3 = df_numeric_cols.quantile(0.75)\n",
    "IQR = Q3 - Q1\n",
    "\n",
    "# Xác định ngưỡng để nhận diện ngoại lai\n",
    "lower_bound = Q1 - 1.5 * IQR\n",
    "upper_bound = Q3 + 1.5 * IQR\n",
    "\n",
    "# Nhận diện ngoại lai: Dữ liệu nằm ngoài khoảng [lower_bound, upper_bound]\n",
    "outliers = (df_numeric_cols < lower_bound) | (df_numeric_cols > upper_bound)\n",
    "\n",
    "# Vẽ histogram với các ngoại lai được đánh dấu\n",
    "n_cols = len(df_numeric_cols.columns)\n",
    "fig, axes = plt.subplots(n_cols, 1, figsize=(12, 4 * n_cols))\n",
    "\n",
    "# Nếu chỉ có một cột, axes sẽ không phải là danh sách mà là một đối tượng đơn lẻ\n",
    "if n_cols == 1:\n",
    "    axes = [axes]\n",
    "\n",
    "for i, col in enumerate(df_numeric_cols.columns):\n",
    "    # Vẽ histogram với KDE\n",
    "    sns.histplot(df_numeric_cols[col], bins=20, kde=True, ax=axes[i])\n",
    "    \n",
    "    # Lọc các ngoại lai cho cột hiện tại\n",
    "    outliers_col = df_numeric_cols[col][outliers[col]]\n",
    "    \n",
    "    # Đánh dấu ngoại lai trên histogram bằng điểm đỏ\n",
    "    axes[i].scatter(outliers_col, [0] * len(outliers_col), color='red', label='Outliers', zorder=5)\n",
    "    \n",
    "    # Cài đặt tiêu đề và nhãn\n",
    "    axes[i].set_title(f'Histogram of {col} with Outliers')\n",
    "    axes[i].set_xlabel(col)\n",
    "    axes[i].set_ylabel('Frequency')\n",
    "    axes[i].legend()\n",
    "\n",
    "# Tinh chỉnh layout và hiển thị biểu đồ\n",
    "plt.tight_layout()\n",
    "plt.show()\n",
    "\n",
    "# Tạo báo cáo số lượng ngoại lai trong từng cột\n",
    "outliers_summary = outliers.sum()\n",
    "print(\"Số lượng ngoại lai trong từng cột:\")\n",
    "print(outliers_summary)"
   ]
  },
  {
   "cell_type": "markdown",
   "metadata": {},
   "source": [
    "### Read data from file LangSon_DongBacBo.csv"
   ]
  },
  {
   "cell_type": "code",
   "execution_count": null,
   "metadata": {},
   "outputs": [],
   "source": [
    "name = 'LangSon_DongBacBo.csv'\n",
    "df = pd.read_csv(os.path.join(\"../Data\",name),sep=',', encoding='utf-8')"
   ]
  },
  {
   "cell_type": "code",
   "execution_count": null,
   "metadata": {},
   "outputs": [],
   "source": [
    "# Test\n",
    "df.head()"
   ]
  },
  {
   "cell_type": "markdown",
   "metadata": {},
   "source": [
    "### Data type"
   ]
  },
  {
   "cell_type": "code",
   "execution_count": null,
   "metadata": {},
   "outputs": [],
   "source": [
    "dtypes = df.dtypes"
   ]
  },
  {
   "cell_type": "code",
   "execution_count": null,
   "metadata": {},
   "outputs": [],
   "source": [
    "# Test\n",
    "dtypes"
   ]
  },
  {
   "cell_type": "markdown",
   "metadata": {},
   "source": [
    "### Phân tích thống kê"
   ]
  },
  {
   "cell_type": "code",
   "execution_count": null,
   "metadata": {},
   "outputs": [],
   "source": [
    "# Trả về dataframe chỉ có các cột là kiểu số\n",
    "df_numeric_cols = df.select_dtypes(include='float')"
   ]
  },
  {
   "cell_type": "code",
   "execution_count": null,
   "metadata": {},
   "outputs": [],
   "source": [
    "# Test\n",
    "df_numeric_cols.head()"
   ]
  },
  {
   "cell_type": "code",
   "execution_count": null,
   "metadata": {},
   "outputs": [],
   "source": [
    "descriptive_statistics = df_numeric_cols.describe().round(2)\n",
    "def missing_ratio(series):\n",
    "    return series.isnull().sum() / len(series) * 100\n",
    "m_ratio = missing_ratio(df_numeric_cols).round(2)\n",
    "\n",
    "descriptive_statistics.loc['missing_ratio'] = m_ratio\n",
    "descriptive_statistics"
   ]
  },
  {
   "cell_type": "markdown",
   "metadata": {},
   "source": [
    "### Vẽ histogram và xác định ngoại lại trên biểu đồ"
   ]
  },
  {
   "cell_type": "code",
   "execution_count": null,
   "metadata": {},
   "outputs": [],
   "source": [
    "# Tính IQR cho từng cột\n",
    "Q1 = df_numeric_cols.quantile(0.25)\n",
    "Q3 = df_numeric_cols.quantile(0.75)\n",
    "IQR = Q3 - Q1\n",
    "\n",
    "# Xác định ngưỡng để nhận diện ngoại lai\n",
    "lower_bound = Q1 - 1.5 * IQR\n",
    "upper_bound = Q3 + 1.5 * IQR\n",
    "\n",
    "# Nhận diện ngoại lai: Dữ liệu nằm ngoài khoảng [lower_bound, upper_bound]\n",
    "outliers = (df_numeric_cols < lower_bound) | (df_numeric_cols > upper_bound)\n",
    "\n",
    "# Vẽ histogram với các ngoại lai được đánh dấu\n",
    "n_cols = len(df_numeric_cols.columns)\n",
    "fig, axes = plt.subplots(n_cols, 1, figsize=(12, 4 * n_cols))\n",
    "\n",
    "# Nếu chỉ có một cột, axes sẽ không phải là danh sách mà là một đối tượng đơn lẻ\n",
    "if n_cols == 1:\n",
    "    axes = [axes]\n",
    "\n",
    "for i, col in enumerate(df_numeric_cols.columns):\n",
    "    # Vẽ histogram với KDE\n",
    "    sns.histplot(df_numeric_cols[col], bins=20, kde=True, ax=axes[i])\n",
    "    \n",
    "    # Lọc các ngoại lai cho cột hiện tại\n",
    "    outliers_col = df_numeric_cols[col][outliers[col]]\n",
    "    \n",
    "    # Đánh dấu ngoại lai trên histogram bằng điểm đỏ\n",
    "    axes[i].scatter(outliers_col, [0] * len(outliers_col), color='red', label='Outliers', zorder=5)\n",
    "    \n",
    "    # Cài đặt tiêu đề và nhãn\n",
    "    axes[i].set_title(f'Histogram of {col} with Outliers')\n",
    "    axes[i].set_xlabel(col)\n",
    "    axes[i].set_ylabel('Frequency')\n",
    "    axes[i].legend()\n",
    "\n",
    "# Tinh chỉnh layout và hiển thị biểu đồ\n",
    "plt.tight_layout()\n",
    "plt.show()\n",
    "\n",
    "# Tạo báo cáo số lượng ngoại lai trong từng cột\n",
    "outliers_summary = outliers.sum()\n",
    "print(\"Số lượng ngoại lai trong từng cột:\")\n",
    "print(outliers_summary)"
   ]
  },
  {
   "cell_type": "markdown",
   "metadata": {},
   "source": [
    "### Read data from file NgheAn_BacTrungBo.csv"
   ]
  },
  {
   "cell_type": "code",
   "execution_count": null,
   "metadata": {},
   "outputs": [],
   "source": [
    "name = 'NgheAn_BacTrungBo.csv'\n",
    "df = pd.read_csv(os.path.join(\"../Data\",name),sep=',', encoding='utf-8')"
   ]
  },
  {
   "cell_type": "code",
   "execution_count": null,
   "metadata": {},
   "outputs": [],
   "source": [
    "# Test\n",
    "df.head()"
   ]
  },
  {
   "cell_type": "markdown",
   "metadata": {},
   "source": [
    "### Data type"
   ]
  },
  {
   "cell_type": "code",
   "execution_count": null,
   "metadata": {},
   "outputs": [],
   "source": [
    "dtypes = df.dtypes"
   ]
  },
  {
   "cell_type": "code",
   "execution_count": null,
   "metadata": {},
   "outputs": [],
   "source": [
    "# Test\n",
    "dtypes"
   ]
  },
  {
   "cell_type": "markdown",
   "metadata": {},
   "source": [
    "### Phân tích thống kê"
   ]
  },
  {
   "cell_type": "code",
   "execution_count": null,
   "metadata": {},
   "outputs": [],
   "source": [
    "# Trả về dataframe chỉ có các cột là kiểu số\n",
    "df_numeric_cols = df.select_dtypes(include='float')"
   ]
  },
  {
   "cell_type": "code",
   "execution_count": null,
   "metadata": {},
   "outputs": [],
   "source": [
    "# Test\n",
    "df_numeric_cols.head()"
   ]
  },
  {
   "cell_type": "code",
   "execution_count": null,
   "metadata": {},
   "outputs": [],
   "source": [
    "descriptive_statistics = df_numeric_cols.describe().round(2)\n",
    "def missing_ratio(series):\n",
    "    return series.isnull().sum() / len(series) * 100\n",
    "m_ratio = missing_ratio(df_numeric_cols).round(2)\n",
    "\n",
    "descriptive_statistics.loc['missing_ratio'] = m_ratio\n",
    "descriptive_statistics"
   ]
  },
  {
   "cell_type": "markdown",
   "metadata": {},
   "source": [
    "### Vẽ histogram và xác định ngoại lại trên biểu đồ"
   ]
  },
  {
   "cell_type": "code",
   "execution_count": null,
   "metadata": {},
   "outputs": [],
   "source": [
    "# Tính IQR cho từng cột\n",
    "Q1 = df_numeric_cols.quantile(0.25)\n",
    "Q3 = df_numeric_cols.quantile(0.75)\n",
    "IQR = Q3 - Q1\n",
    "\n",
    "# Xác định ngưỡng để nhận diện ngoại lai\n",
    "lower_bound = Q1 - 1.5 * IQR\n",
    "upper_bound = Q3 + 1.5 * IQR\n",
    "\n",
    "# Nhận diện ngoại lai: Dữ liệu nằm ngoài khoảng [lower_bound, upper_bound]\n",
    "outliers = (df_numeric_cols < lower_bound) | (df_numeric_cols > upper_bound)\n",
    "\n",
    "# Vẽ histogram với các ngoại lai được đánh dấu\n",
    "n_cols = len(df_numeric_cols.columns)\n",
    "fig, axes = plt.subplots(n_cols, 1, figsize=(12, 4 * n_cols))\n",
    "\n",
    "# Nếu chỉ có một cột, axes sẽ không phải là danh sách mà là một đối tượng đơn lẻ\n",
    "if n_cols == 1:\n",
    "    axes = [axes]\n",
    "\n",
    "for i, col in enumerate(df_numeric_cols.columns):\n",
    "    # Vẽ histogram với KDE\n",
    "    sns.histplot(df_numeric_cols[col], bins=20, kde=True, ax=axes[i])\n",
    "    \n",
    "    # Lọc các ngoại lai cho cột hiện tại\n",
    "    outliers_col = df_numeric_cols[col][outliers[col]]\n",
    "    \n",
    "    # Đánh dấu ngoại lai trên histogram bằng điểm đỏ\n",
    "    axes[i].scatter(outliers_col, [0] * len(outliers_col), color='red', label='Outliers', zorder=5)\n",
    "    \n",
    "    # Cài đặt tiêu đề và nhãn\n",
    "    axes[i].set_title(f'Histogram of {col} with Outliers')\n",
    "    axes[i].set_xlabel(col)\n",
    "    axes[i].set_ylabel('Frequency')\n",
    "    axes[i].legend()\n",
    "\n",
    "# Tinh chỉnh layout và hiển thị biểu đồ\n",
    "plt.tight_layout()\n",
    "plt.show()\n",
    "\n",
    "# Tạo báo cáo số lượng ngoại lai trong từng cột\n",
    "outliers_summary = outliers.sum()\n",
    "print(\"Số lượng ngoại lai trong từng cột:\")\n",
    "print(outliers_summary)"
   ]
  },
  {
   "cell_type": "markdown",
   "metadata": {},
   "source": [
    "### Read data from file SonLa_TayBacBo.csv"
   ]
  },
  {
   "cell_type": "code",
   "execution_count": null,
   "metadata": {},
   "outputs": [],
   "source": [
    "name = 'SonLa_TayBacBo.csv'\n",
    "df = pd.read_csv(os.path.join(\"../Data\",name),sep=',', encoding='utf-8')"
   ]
  },
  {
   "cell_type": "code",
   "execution_count": null,
   "metadata": {},
   "outputs": [],
   "source": [
    "# Test\n",
    "df.head()"
   ]
  },
  {
   "cell_type": "markdown",
   "metadata": {},
   "source": [
    "### Data type"
   ]
  },
  {
   "cell_type": "code",
   "execution_count": null,
   "metadata": {},
   "outputs": [],
   "source": [
    "dtypes = df.dtypes"
   ]
  },
  {
   "cell_type": "code",
   "execution_count": null,
   "metadata": {},
   "outputs": [],
   "source": [
    "# Test\n",
    "dtypes"
   ]
  },
  {
   "cell_type": "markdown",
   "metadata": {},
   "source": [
    "### Phân tích thống kê"
   ]
  },
  {
   "cell_type": "code",
   "execution_count": null,
   "metadata": {},
   "outputs": [],
   "source": [
    "# Trả về dataframe chỉ có các cột là kiểu số\n",
    "df_numeric_cols = df.select_dtypes(include='float')"
   ]
  },
  {
   "cell_type": "code",
   "execution_count": null,
   "metadata": {},
   "outputs": [],
   "source": [
    "# Test\n",
    "df_numeric_cols.head()"
   ]
  },
  {
   "cell_type": "code",
   "execution_count": null,
   "metadata": {},
   "outputs": [],
   "source": [
    "descriptive_statistics = df_numeric_cols.describe().round(2)\n",
    "def missing_ratio(series):\n",
    "    return series.isnull().sum() / len(series) * 100\n",
    "m_ratio = missing_ratio(df_numeric_cols).round(2)\n",
    "\n",
    "descriptive_statistics.loc['missing_ratio'] = m_ratio\n",
    "descriptive_statistics"
   ]
  },
  {
   "cell_type": "markdown",
   "metadata": {},
   "source": [
    "### Vẽ histogram và xác định ngoại lại trên biểu đồ"
   ]
  },
  {
   "cell_type": "code",
   "execution_count": null,
   "metadata": {},
   "outputs": [],
   "source": [
    "# Tính IQR cho từng cột\n",
    "Q1 = df_numeric_cols.quantile(0.25)\n",
    "Q3 = df_numeric_cols.quantile(0.75)\n",
    "IQR = Q3 - Q1\n",
    "\n",
    "# Xác định ngưỡng để nhận diện ngoại lai\n",
    "lower_bound = Q1 - 1.5 * IQR\n",
    "upper_bound = Q3 + 1.5 * IQR\n",
    "\n",
    "# Nhận diện ngoại lai: Dữ liệu nằm ngoài khoảng [lower_bound, upper_bound]\n",
    "outliers = (df_numeric_cols < lower_bound) | (df_numeric_cols > upper_bound)\n",
    "\n",
    "# Vẽ histogram với các ngoại lai được đánh dấu\n",
    "n_cols = len(df_numeric_cols.columns)\n",
    "fig, axes = plt.subplots(n_cols, 1, figsize=(12, 4 * n_cols))\n",
    "\n",
    "# Nếu chỉ có một cột, axes sẽ không phải là danh sách mà là một đối tượng đơn lẻ\n",
    "if n_cols == 1:\n",
    "    axes = [axes]\n",
    "\n",
    "for i, col in enumerate(df_numeric_cols.columns):\n",
    "    # Vẽ histogram với KDE\n",
    "    sns.histplot(df_numeric_cols[col], bins=20, kde=True, ax=axes[i])\n",
    "    \n",
    "    # Lọc các ngoại lai cho cột hiện tại\n",
    "    outliers_col = df_numeric_cols[col][outliers[col]]\n",
    "    \n",
    "    # Đánh dấu ngoại lai trên histogram bằng điểm đỏ\n",
    "    axes[i].scatter(outliers_col, [0] * len(outliers_col), color='red', label='Outliers', zorder=5)\n",
    "    \n",
    "    # Cài đặt tiêu đề và nhãn\n",
    "    axes[i].set_title(f'Histogram of {col} with Outliers')\n",
    "    axes[i].set_xlabel(col)\n",
    "    axes[i].set_ylabel('Frequency')\n",
    "    axes[i].legend()\n",
    "\n",
    "# Tinh chỉnh layout và hiển thị biểu đồ\n",
    "plt.tight_layout()\n",
    "plt.show()\n",
    "\n",
    "# Tạo báo cáo số lượng ngoại lai trong từng cột\n",
    "outliers_summary = outliers.sum()\n",
    "print(\"Số lượng ngoại lai trong từng cột:\")\n",
    "print(outliers_summary)"
   ]
  }
 ],
 "metadata": {
  "kernelspec": {
   "display_name": "VE_For_WebScraping",
   "language": "python",
   "name": "python3"
  },
  "language_info": {
   "codemirror_mode": {
    "name": "ipython",
    "version": 3
   },
   "file_extension": ".py",
   "mimetype": "text/x-python",
   "name": "python",
   "nbconvert_exporter": "python",
   "pygments_lexer": "ipython3",
   "version": "3.10.15"
  }
 },
 "nbformat": 4,
 "nbformat_minor": 2
}
