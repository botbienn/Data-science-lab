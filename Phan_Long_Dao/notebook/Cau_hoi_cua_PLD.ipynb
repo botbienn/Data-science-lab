{
 "cells": [
  {
   "cell_type": "markdown",
   "metadata": {},
   "source": [
    "## Đặt câu hỏi về chủ đề Thời tiết:\n",
    "### Câu 1: Dự đoán một ngày nào đó có mưa không tại một tỉnh thành cụ thể?\n",
    "- Ý nghĩa của việc trả lời câu hỏi: Nhầm phục vụ cho việc di chuyển, vận chuyển hàng hóa, ăn chơi, du lịch tại những ngày cụ thể\n",
    "- Cách trả lời câu hỏi: Sử dụng mô hình học máy kết hợp với trực quan dữ liệu\n",
    "    - Bước 1: Chọn đặc trưng\n",
    "        - Cột mục tiêu: Một trong 2 cột Precipprob và Preciptype đều có thể chọn làm cột mục tiêu\n",
    "            - Lý do chọn 1 trong 2 cột này: Ta thấy 2 cột này trong bảng dữ liệu là kết quả thực tế tại một ngày cụ thể có mưa hay là không. Vậy nên 2 cột này có thể đại diện cho yêu cầu câu hỏi đã đặt ra.\n",
    "        - Cột đặc trưng: Có thể chọn cột Temp, Dew, Humidity,...\n",
    "            - Lý do chọn các cột: \n",
    "                - Dựa vào kinh nghiệm cá nhân: cần phải giải thích\n",
    "                - Dựa vào Hệ số tương quan(Correlation), Kiểm định thống kê (Chi-Square Test)\n",
    "                - Sử dụng kỹ thuật giảm chiều (Data reduction) trong slide kết hợp với Hệ số tương quan để chọn ra đặc trưng tốt nhất\n",
    "    - Bước 2: Chọn mô hình học máy và sử dụng\n",
    "        - Mô hình học máy có thể sử dụng: Regression hoặc Classification. Sử dụng thêm trực quan hóa để dễ chọn ra mô hình phù hợp.\n",
    "        - Nếu chọn Regression:\n",
    "            - Một số mô hình cụ thể: Linear Regression, Random Forest Regression,...\n",
    "            - Cách sử dụng:\n",
    "                - Chọn đặc trưng (Đã trình bày ở trên)\n",
    "                - Chuẩn hóa dữ liệu cho từng cột\n",
    "                - Chia tập dữ liệu ( Chia ra thành 3 tập (train, test, valid) theo thời gian vì đây là bài toán dự đoán)\n",
    "                - Sử dụng mô hình cụ thể\n",
    "                - Đánh giá mô hình: có thể chọn các phương pháp như Mean Absolute Error (MAE) hoặc Mean Squared Error(MSE)\n",
    "                - Tối ưu mô hình: sử dụng phương pháp như Cross-Validation, Hyperparameter Tuning,...\n",
    "            - Có thể thực hiện với nhiều mô hình hồi quy cụ thể để nhằm mục đích đánh giá để chọn ra mô hình nào tốt nhất\n",
    "        - Nếu chọn Classification:\n",
    "            - Một số mô hình cụ thể: Logistic Regression, Random Forest, Gradient Boosting,...\n",
    "            - Cách sử dụng:\n",
    "                - Chọn đặc trưng (Đã trình bày ở trên)\n",
    "                - Chuẩn hóa dữ liệu cho từng cột\n",
    "                - Chia tập dữ liệu ( Chia ra thành 3 tập (train, test, valid) theo thời gian vì đây là bài toán dự đoán)\n",
    "                - Sử dụng mô hình cụ thể\n",
    "                - Đánh giá mô hình: có thể sử dụng Precision, Accuracy, Recall,...\n",
    "                - Tối ưu mô hình: sử dụng phương pháp như Cross-Validation, Hyperparameter Tuning,...\n",
    "            - Có thể thực hiện với nhiều mô hình Classification cụ thể để nhằm mục đích đánh giá để chọn ra mô hình nào tốt nhất\n",
    "\n",
    "\n",
    "\n",
    "\n"
   ]
  },
  {
   "cell_type": "markdown",
   "metadata": {},
   "source": []
  }
 ],
 "metadata": {
  "language_info": {
   "name": "python"
  }
 },
 "nbformat": 4,
 "nbformat_minor": 2
}
