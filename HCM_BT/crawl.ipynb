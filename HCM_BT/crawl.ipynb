{
 "cells": [
  {
   "cell_type": "code",
   "execution_count": 1,
   "metadata": {},
   "outputs": [],
   "source": [
    "import pandas as pd\n",
    "import requests\n",
    "import bs4 as BeautifulSoup\n",
    "import json\n",
    "from dotenv import load_dotenv\n",
    "import os"
   ]
  },
  {
   "cell_type": "code",
   "execution_count": 2,
   "metadata": {},
   "outputs": [],
   "source": [
    "# Lưu api key vào file .env để bảo mật\n",
    "load_dotenv()\n",
    "api_key = os.getenv('API_KEY')\n",
    "# url mặc định\n",
    "base_url = 'https://weather.visualcrossing.com/VisualCrossingWebServices/rest/services/timeline/'\n",
    "# khu vực đông nam bộ\n",
    "location1 = 'Ho Chi Minh'\n",
    "# khu vực đồng bằng sông cửu long (tây nam bộ, hay miền tây)\n",
    "location2 = 'Ben Tre'\n",
    "# Do mỗi ngày chỉ crawl được khoảng 1000 ngày nên em chia ra 1 khu vực crawl trong 2 ngày\n",
    "# Nửa đầu\n",
    "date1 = '2019-01-01'\n",
    "date2 = '2021-06-30'\n",
    "# Nửa sau\n",
    "date3 = '2021-07-01'\n",
    "date4 = '2024-01-01'"
   ]
  },
  {
   "cell_type": "code",
   "execution_count": 3,
   "metadata": {},
   "outputs": [],
   "source": [
    "def getData(location: str, date1: str, date2: str) -> dict:\n",
    "    url = f\"{base_url}{location}/{date1}/{date2}\"\n",
    "    params = {\n",
    "        \"key\": api_key,\n",
    "        \"unitGroup\": \"metric\",  # Sử dụng độ C\n",
    "        \"include\": \"days\",   # Lấy dữ liệu thời tiết hiện tại\n",
    "        \"contentType\": \"json\",  # Định dạng trả về là JSON\n",
    "        \"lang\" : \"en\"\n",
    "    }\n",
    "    response = requests.get(url, params=params)\n",
    "    # Nếu status code khác 200 -> lỗi khi gọi api\n",
    "    assert response.status_code == 200, f'Error: {response.status_code}\\n{response.content}'\n",
    "    return response.json()\n",
    "\n",
    "# Lưu file json phòng trường hợp cần dùng lại mà không cần phải gọi lại api\n",
    "def saveJson(data: dict, fileName: str):\n",
    "    with open(fileName, 'w') as f:\n",
    "        f.write(str(data).replace('\\'', '\"') # đổi các cặp ngoặc '' thành \"\" \n",
    "                         .replace('None', '\"\"')) # đổi các mục không có data từ None thành \"\"\n",
    "\n",
    "# Đọc file json\n",
    "def readJson(fileName: str):\n",
    "    with open(fileName, 'r') as f:\n",
    "        return json.load(f)"
   ]
  },
  {
   "cell_type": "code",
   "execution_count": 4,
   "metadata": {},
   "outputs": [],
   "source": [
    "def up1stChar(s: str) -> str: # ghi hoa ký tự đầu\n",
    "    return s[0].upper() + s[1:]\n",
    "\n",
    "def convertDataToDf(data: dict) -> pd.DataFrame: # chuyển data file json qua dataframe\n",
    "    df_header = list(data['days'][0].keys())\n",
    "    df_header\n",
    "    dict_data = {\n",
    "        up1stChar(header): [] for header in df_header\n",
    "    }\n",
    "    for d in data['days']:\n",
    "        for header in df_header:\n",
    "            dict_data[up1stChar(header)].append(str(d[header])\n",
    "                                        .replace('[', '')\n",
    "                                        .replace(']', '')\n",
    "                                        .replace('\\'', '')) # bỏ các dấu ', [, ] trong list khi chuyển qua str\n",
    "    dict_data['Address'] = [data['address']] * len(data['days'])\n",
    "\n",
    "    df = pd.DataFrame(dict_data)\n",
    "    return df"
   ]
  },
  {
   "cell_type": "code",
   "execution_count": 5,
   "metadata": {},
   "outputs": [],
   "source": [
    "# Ngày 1: gọi api lấy data location1, date1 -> date2\n",
    "data = getData(location1, date1, date2)\n",
    "saveJson(data, f'{location1} (1).json')"
   ]
  },
  {
   "cell_type": "code",
   "execution_count": 5,
   "metadata": {},
   "outputs": [],
   "source": [
    "# Ngày 2: gọi api lấy data location1, date3 -> date4\n",
    "data = getData(location1, date3, date4)\n",
    "saveJson(data, f'{location1} (2).json')"
   ]
  },
  {
   "cell_type": "code",
   "execution_count": 6,
   "metadata": {},
   "outputs": [],
   "source": [
    "# Ngày 2: merge data location1 của 2 ngày lại\n",
    "oldData = readJson(f'{location1} (1).json')\n",
    "data = readJson(f'{location1} (2).json')\n",
    "\n",
    "df1 = convertDataToDf(oldData)\n",
    "df2 = convertDataToDf(data)\n",
    "\n",
    "df = pd.concat([df1, df2], axis=0, ignore_index=True)\n",
    "df.to_csv(f'{location1}.csv')"
   ]
  },
  {
   "cell_type": "code",
   "execution_count": 5,
   "metadata": {},
   "outputs": [],
   "source": [
    "# Ngày 3: gọi api lấy data location2, date1 -> date2\n",
    "data = getData(location2, date1, date2)\n",
    "saveJson(data, f'{location2} (1).json')"
   ]
  },
  {
   "cell_type": "code",
   "execution_count": null,
   "metadata": {},
   "outputs": [],
   "source": [
    "# Ngày 4: gọi api lấy data location2, date3 -> date4\n",
    "data = getData(location2, date3, date4)\n",
    "saveJson(data, f'{location2} (2).json')"
   ]
  },
  {
   "cell_type": "code",
   "execution_count": null,
   "metadata": {},
   "outputs": [],
   "source": [
    "# Ngày 4: merge data location2 của 2 ngày lại\n",
    "oldData = readJson(f'{location2} (1).json')\n",
    "data = readJson(f'{location2} (2).json')\n",
    "\n",
    "df1 = convertDataToDf(oldData)\n",
    "df2 = convertDataToDf(data)\n",
    "\n",
    "df = pd.concat([df1, df2], axis=0, ignore_index=True)\n",
    "df.to_csv(f'{location2}.csv')"
   ]
  }
 ],
 "metadata": {
  "kernelspec": {
   "display_name": "min_ds-env2",
   "language": "python",
   "name": "python3"
  },
  "language_info": {
   "codemirror_mode": {
    "name": "ipython",
    "version": 3
   },
   "file_extension": ".py",
   "mimetype": "text/x-python",
   "name": "python",
   "nbconvert_exporter": "python",
   "pygments_lexer": "ipython3",
   "version": "3.10.15"
  }
 },
 "nbformat": 4,
 "nbformat_minor": 2
}
