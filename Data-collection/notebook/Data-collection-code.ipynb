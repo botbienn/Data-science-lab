{
 "cells": [
  {
   "cell_type": "markdown",
   "metadata": {},
   "source": [
    "# Data Collection - Using API Visual Crossing"
   ]
  },
  {
   "cell_type": "markdown",
   "metadata": {},
   "source": [
    "### Import các thư viện cần thiết"
   ]
  },
  {
   "cell_type": "code",
   "execution_count": 6,
   "metadata": {},
   "outputs": [],
   "source": [
    "import pandas as pd\n",
    "import requests\n",
    "import bs4 as BeautifulSoup\n",
    "import json\n",
    "from dotenv import load_dotenv\n",
    "import os"
   ]
  },
  {
   "cell_type": "markdown",
   "metadata": {},
   "source": [
    "### Thiết lập API và danh sách khu vực cần thu thập dữ liệu thời tiết"
   ]
  },
  {
   "cell_type": "code",
   "execution_count": null,
   "metadata": {},
   "outputs": [],
   "source": [
    "# Lưu api key vào file .env để bảo mật\n",
    "load_dotenv()\n",
    "api_key = os.getenv('API_KEY')\n",
    "# url mặc định\n",
    "base_url = 'https://weather.visualcrossing.com/VisualCrossingWebServices/rest/services/timeline/'\n",
    "# khu vực đông nam bộ\n",
    "locations = ['Son La Viet Nam','Lang Son',\n",
    "            'Ha Noi', 'Nghe An', 'Da Nang', 'Lam Dong',\n",
    "            'Ho Chi Minh','Ben Tre']\n",
    "\n",
    "# Do mỗi ngày chỉ crawl được khoảng 1000 ngày nên em chia ra 1 khu vực crawl trong 2 ngày\n",
    "# Nửa đầu\n",
    "date1 = '2019-01-01'\n",
    "date2 = '2021-06-30'\n",
    "# Nửa sau\n",
    "date3 = '2021-07-01'\n",
    "date4 = '2024-01-01'"
   ]
  },
  {
   "cell_type": "markdown",
   "metadata": {},
   "source": [
    "### Gọi API để lấy dữ liệu thời tiết"
   ]
  },
  {
   "cell_type": "code",
   "execution_count": null,
   "metadata": {},
   "outputs": [],
   "source": [
    "def getData(location: str, date1: str, date2: str) -> dict:\n",
    "    '''Hàm lấy dữ liệu thời tiết từ Visual Crossing API.'''\n",
    "    url = f\"{base_url}{location}/{date1}/{date2}\"\n",
    "    params = {\n",
    "        \"key\": api_key,\n",
    "        \"unitGroup\": \"metric\",  # Sử dụng độ C\n",
    "        \"include\": \"days\",   # Lấy dữ liệu thời tiết hiện tại\n",
    "        \"contentType\": \"json\",  # Định dạng trả về là JSON\n",
    "        \"lang\" : \"en\"\n",
    "    }\n",
    "    response = requests.get(url, params=params)\n",
    "    # Nếu status code khác 200 -> lỗi khi gọi api\n",
    "    assert response.status_code == 200, f'Error: {response.status_code}\\n{response.content}'\n",
    "    return response.json()\n",
    "\n",
    "def saveJson(data: dict, fileName: str):\n",
    "    '''Lưu file json phòng trường hợp cần dùng lại mà không cần phải gọi lại API'''\n",
    "    with open('../khac/' + fileName, 'w') as f:\n",
    "        f.write(str(data).replace('\\'', '\"') # đổi các cặp ngoặc '' thành \"\" \n",
    "                         .replace('None', '\"\"')) # đổi các mục không có data từ None thành \"\"\n",
    "\n",
    "def readJson(fileName: str):\n",
    "    '''Đọc file json'''\n",
    "    with open('../khac/' + fileName, 'r') as f:\n",
    "        return json.load(f)"
   ]
  },
  {
   "cell_type": "markdown",
   "metadata": {},
   "source": [
    "### Chuyển đổi định dạng Json sang Dataframe cho từng tỉnh thành"
   ]
  },
  {
   "cell_type": "code",
   "execution_count": null,
   "metadata": {},
   "outputs": [],
   "source": [
    "def up1stChar(s: str) -> str:\n",
    "    '''Hàm ghi hoa ký tự đầu'''\n",
    "    return s[0].upper() + s[1:]\n",
    "\n",
    "def convertDataToDf(data: dict) -> pd.DataFrame:\n",
    "    '''Hàm chuyển data file json thành một Dataframe'''\n",
    "    df_header = list(data['days'][0].keys())\n",
    "    dict_data = {\n",
    "        up1stChar(header): [] for header in df_header\n",
    "    }\n",
    "    for d in data['days']:\n",
    "        for header in df_header:\n",
    "            dict_data[up1stChar(header)].append(str(d[header])\n",
    "                                        .replace('[', '')\n",
    "                                        .replace(']', '')\n",
    "                                        .replace('\\'', '')) # bỏ các dấu ', [, ] trong list khi chuyển qua str\n",
    "    # dict_data['Address'] = [data['address']] * len(data['days'])\n",
    "    df = pd.DataFrame(dict_data)\n",
    "    return df\n",
    "\n",
    "def mergeDF(index) -> pd.DataFrame:\n",
    "    '''Hàm merge các file json của một tỉnh thành thành một Dataframe'''\n",
    "    oldData = readJson(f'../khac/{locations[index]} (1).json')\n",
    "    data = readJson(f'../khac/{locations[index]} (2).json')\n",
    "\n",
    "    df1 = convertDataToDf(oldData)\n",
    "    df2 = convertDataToDf(data)\n",
    "\n",
    "    df = pd.concat([df1, df2], axis=0, ignore_index=True)\n",
    "    return df"
   ]
  },
  {
   "cell_type": "markdown",
   "metadata": {},
   "source": [
    "### Thu thập dữ liệu thời tiết của 8 tỉnh thành"
   ]
  },
  {
   "cell_type": "markdown",
   "metadata": {},
   "source": [
    "#### Date 1 -> Date 2 của 8 tỉnh thành"
   ]
  },
  {
   "cell_type": "code",
   "execution_count": null,
   "metadata": {},
   "outputs": [],
   "source": [
    "# Sơn La\n",
    "data = getData(locations[0], date1, date2)\n",
    "saveJson(data, f'{locations[0]} (1).json')"
   ]
  },
  {
   "cell_type": "code",
   "execution_count": null,
   "metadata": {},
   "outputs": [],
   "source": [
    "# Lạng Sơn\n",
    "data = getData(locations[1], date1, date2)\n",
    "saveJson(data, f'{locations[1]} (1).json')"
   ]
  },
  {
   "cell_type": "code",
   "execution_count": null,
   "metadata": {},
   "outputs": [],
   "source": [
    "# Hà Nội\n",
    "data = getData(locations[2], date1, date2)\n",
    "saveJson(data, f'{locations[2]} (1).json')"
   ]
  },
  {
   "cell_type": "code",
   "execution_count": null,
   "metadata": {},
   "outputs": [],
   "source": [
    "# Nghệ An\n",
    "data = getData(locations[3], date1, date2)\n",
    "saveJson(data, f'{locations[3]} (1).json')"
   ]
  },
  {
   "cell_type": "code",
   "execution_count": null,
   "metadata": {},
   "outputs": [],
   "source": [
    "# Đà Nẵng\n",
    "data = getData(locations[4], date1, date2)\n",
    "saveJson(data, f'{locations[4]} (1).json')"
   ]
  },
  {
   "cell_type": "code",
   "execution_count": null,
   "metadata": {},
   "outputs": [],
   "source": [
    "# Lâm Đồng\n",
    "data = getData(locations[5], date1, date2)\n",
    "saveJson(data, f'{locations[5]} (1).json')"
   ]
  },
  {
   "cell_type": "code",
   "execution_count": null,
   "metadata": {},
   "outputs": [],
   "source": [
    "# Hồ Chí Minh\n",
    "data = getData(locations[6], date1, date2)\n",
    "saveJson(data, f'{locations[6]} (1).json')"
   ]
  },
  {
   "cell_type": "code",
   "execution_count": null,
   "metadata": {},
   "outputs": [],
   "source": [
    "# Bến Tre\n",
    "data = getData(locations[7], date1, date2)\n",
    "saveJson(data, f'{locations[7]} (1).json')"
   ]
  },
  {
   "cell_type": "markdown",
   "metadata": {},
   "source": [
    "#### Date 3 -> Date 4 của 8 tỉnh thành "
   ]
  },
  {
   "cell_type": "code",
   "execution_count": null,
   "metadata": {},
   "outputs": [],
   "source": [
    "# Sơn La\n",
    "data = getData(locations[0], date3, date4)\n",
    "saveJson(data, f'{locations[0]} (2).json')"
   ]
  },
  {
   "cell_type": "code",
   "execution_count": null,
   "metadata": {},
   "outputs": [],
   "source": [
    "# Lạng Sơn\n",
    "data = getData(locations[1], date3, date4)\n",
    "saveJson(data, f'{locations[1]} (2).json')"
   ]
  },
  {
   "cell_type": "code",
   "execution_count": null,
   "metadata": {},
   "outputs": [],
   "source": [
    "# Hà Nội\n",
    "data = getData(locations[2], date3, date4)\n",
    "saveJson(data, f'{locations[2]} (2).json')"
   ]
  },
  {
   "cell_type": "code",
   "execution_count": null,
   "metadata": {},
   "outputs": [],
   "source": [
    "# Nghệ An\n",
    "data = getData(locations[3], date3, date4)\n",
    "saveJson(data, f'{locations[3]} (2).json')"
   ]
  },
  {
   "cell_type": "code",
   "execution_count": null,
   "metadata": {},
   "outputs": [],
   "source": [
    "# Đà Nẵng\n",
    "data = getData(locations[4], date3, date4)\n",
    "saveJson(data, f'{locations[4]} (2).json')"
   ]
  },
  {
   "cell_type": "code",
   "execution_count": null,
   "metadata": {},
   "outputs": [],
   "source": [
    "# Lâm Đồng\n",
    "data = getData(locations[5], date3, date4)\n",
    "saveJson(data, f'{locations[5]} (2).json')"
   ]
  },
  {
   "cell_type": "code",
   "execution_count": null,
   "metadata": {},
   "outputs": [],
   "source": [
    "# Hồ Chí Minh\n",
    "data = getData(locations[6], date3, date4)\n",
    "saveJson(data, f'{locations[6]} (2).json')"
   ]
  },
  {
   "cell_type": "code",
   "execution_count": null,
   "metadata": {},
   "outputs": [],
   "source": [
    "# Bến Tre\n",
    "data = getData(locations[7], date3, date4)\n",
    "saveJson(data, f'{locations[7]} (2).json')"
   ]
  },
  {
   "cell_type": "markdown",
   "metadata": {},
   "source": [
    "### Gộp dữ liệu của 8 tỉnh thành cho 2 lần thu thập dữ liệu"
   ]
  },
  {
   "cell_type": "code",
   "execution_count": null,
   "metadata": {},
   "outputs": [],
   "source": [
    "LOCATION_FILE_NAME = ['SonLa','LangSon',\n",
    "            'HaNoi', 'NgheAn', 'DaNang', 'LamDong',\n",
    "            'HoChiMinh','BenTre']"
   ]
  },
  {
   "cell_type": "code",
   "execution_count": null,
   "metadata": {},
   "outputs": [],
   "source": [
    "# Sơn La\n",
    "df = mergeDF(0)\n",
    "df.to_csv(f'../../data/raw_data/{LOCATION_FILE_NAME[0]}.csv', index=0)\n",
    "\n",
    "# Lạng Sơn\n",
    "df = mergeDF(1)\n",
    "df.to_csv(f'../../data/raw_data/{LOCATION_FILE_NAME[1]}.csv', index=0)"
   ]
  },
  {
   "cell_type": "code",
   "execution_count": null,
   "metadata": {},
   "outputs": [],
   "source": [
    "# Hà Nội\n",
    "df = mergeDF(2)\n",
    "df.to_csv(f'../../data/raw_data/{LOCATION_FILE_NAME[2]}.csv', index=0)\n",
    "\n",
    "# Nghệ An\n",
    "df = mergeDF(3)\n",
    "df.to_csv(f'../../data/raw_data/{LOCATION_FILE_NAME[3]}.csv', index=0)"
   ]
  },
  {
   "cell_type": "code",
   "execution_count": null,
   "metadata": {},
   "outputs": [],
   "source": [
    "# Đà Nẵng\n",
    "df = mergeDF(4)\n",
    "df.to_csv(f'../../data/raw_data/{LOCATION_FILE_NAME[4]}.csv', index=0)\n",
    "\n",
    "# Lâm Đồng\n",
    "df = mergeDF(5)\n",
    "df.to_csv(f'../../data/raw_data/{LOCATION_FILE_NAME[5]}.csv', index=0)"
   ]
  },
  {
   "cell_type": "code",
   "execution_count": null,
   "metadata": {},
   "outputs": [],
   "source": [
    "# Hồ Chí Minh\n",
    "df = mergeDF(6)\n",
    "df.to_csv(f'../../data/raw_data/{LOCATION_FILE_NAME[6]}.csv', index=0)\n",
    "\n",
    "# Bến Tre\n",
    "df = mergeDF(7)\n",
    "df.to_csv(f'../../data/raw_data/{LOCATION_FILE_NAME[7]}.csv', index=0)"
   ]
  }
 ],
 "metadata": {
  "kernelspec": {
   "display_name": "base",
   "language": "python",
   "name": "python3"
  },
  "language_info": {
   "codemirror_mode": {
    "name": "ipython",
    "version": 3
   },
   "file_extension": ".py",
   "mimetype": "text/x-python",
   "name": "python",
   "nbconvert_exporter": "python",
   "pygments_lexer": "ipython3",
   "version": "3.12.2"
  }
 },
 "nbformat": 4,
 "nbformat_minor": 2
}
