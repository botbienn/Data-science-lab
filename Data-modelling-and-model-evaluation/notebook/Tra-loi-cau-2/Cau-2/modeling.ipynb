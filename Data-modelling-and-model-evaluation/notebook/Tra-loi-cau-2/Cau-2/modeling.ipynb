{
 "cells": [
  {
   "cell_type": "markdown",
   "id": "3ff67abd",
   "metadata": {},
   "source": [
    "# Trả lời câu hỏi `Những thuộc tính nào ảnh hưởng đến độ ẩm của không khí ? dự đoán độ ẩm không khí vào một thời điểm cụ thể.`"
   ]
  },
  {
   "cell_type": "markdown",
   "id": "328570f4-36b2-4dbc-abd1-7f8e14dd0955",
   "metadata": {},
   "source": [
    "## Mô hình dự đoán độ ẩm tại một thời điểm \n",
    "- Sử dụng mô hình hồi quy tuyến tính để dự đoán độ ẩm tương đối trong tương lai dựa vào một số dữ liệu có thể dự đoán trước được \n",
    "- Độ ẩm trong một ngày có ý nghĩa quan trọng trong đời sống thường nhật, yếu tố này ảnh hưởng đến sức khỏe con người, các yếu tố bị ảnh hưởng bởi độ ẩm bao gồm các thiết bị điện tử, hiện tượng ẩm mốc, nhiệt độ cảm giác của con người (feels like), ...\n",
    "- Trả lời câu hỏi bằng mô hình sẽ cho chúng ta ước lượng được độ ẩm tương đối trong một ngày cao hay thấp để có những kế hoạch để bảo vệ sức khỏe, bảo vệ đồ đạc trong nhà và các yếu tố liên quan. \n",
    "## Mô hình hồi quy tuyến tính\n",
    "- Là mô hình đi tìm các tham số cho hàm số có dạng \n",
    "$y = w_{1}x_{1} + w_{2}x_{2} + ... + w_{n}x_{n}$\n",
    "- với $w_1, w_2,...$ là các tham số cần tìm, chúng ta sẽ dựa vào hàm lỗi để giảm thiểu sai số của hàm tuyến tính này đối với tập dữ liệu"
   ]
  },
  {
   "cell_type": "markdown",
   "id": "f4250b73-580a-4f66-8f73-34d587fe742c",
   "metadata": {},
   "source": [
    "# Lấy các module cần thiết "
   ]
  },
  {
   "cell_type": "code",
   "execution_count": 1,
   "id": "884a9f7e-ec92-4cf4-b058-436cd73d6fe2",
   "metadata": {},
   "outputs": [],
   "source": [
    "import joblib\n",
    "import numpy as np\n",
    "import pandas as pd\n",
    "from pandas.core.common import random_state\n",
    "from pandas.io.common import tarfile\n",
    "from sklearn.linear_model import LinearRegression\n",
    "from sklearn.metrics import accuracy_score, mean_squared_error, r2_score\n",
    "from sklearn.model_selection import cross_val_score, train_test_split, KFold\n",
    "\n",
    "\n",
    "# from pandas.core.array_algos.replace import compare_or_regex_search\n",
    "from sklearn.pipeline import make_pipeline\n",
    "from sklearn.preprocessing import StandardScaler"
   ]
  },
  {
   "cell_type": "markdown",
   "id": "6f47628f-a8b6-4d4f-a65e-a53364e234bc",
   "metadata": {},
   "source": [
    "# Lấy các file dữ liệu"
   ]
  },
  {
   "cell_type": "code",
   "execution_count": 2,
   "id": "dc197c43-e79b-4eed-b40c-b9b6c72eb78e",
   "metadata": {},
   "outputs": [],
   "source": [
    "TARGET = 'Humidity'"
   ]
  },
  {
   "cell_type": "code",
   "execution_count": 3,
   "id": "e5d59bdb-6e6d-447c-839f-290999653620",
   "metadata": {},
   "outputs": [],
   "source": [
    "def get_file_list():\n",
    "    # import required module\n",
    "    import os\n",
    "\n",
    "    # assign directory\n",
    "    directory = \"../data/\"\n",
    "\n",
    "    # iterate over files in that directory\n",
    "    result = [f[:-4] for f in os.listdir(directory) if f[0] != '.' ]\n",
    "    return result"
   ]
  },
  {
   "cell_type": "code",
   "execution_count": 4,
   "id": "f64d3497-20e1-41bd-87d9-6273aee0a3f5",
   "metadata": {},
   "outputs": [
    {
     "data": {
      "text/plain": [
       "['LangSon',\n",
       " 'BenTre',\n",
       " 'HaNoi',\n",
       " 'NgheAn',\n",
       " 'LamDong',\n",
       " 'DaNang',\n",
       " 'SonLa',\n",
       " 'HoChiMinh']"
      ]
     },
     "execution_count": 4,
     "metadata": {},
     "output_type": "execute_result"
    }
   ],
   "source": [
    "LOCATIONS_LIST = get_file_list()\n",
    "LOCATIONS_LIST"
   ]
  },
  {
   "cell_type": "markdown",
   "id": "b5359562-94b4-47a5-af4c-b7131893bd5c",
   "metadata": {},
   "source": [
    "# Đọc dữ liệu từ các file "
   ]
  },
  {
   "cell_type": "code",
   "execution_count": 5,
   "id": "464dfd82-d966-4e24-ac84-c2ea5956a2cc",
   "metadata": {},
   "outputs": [],
   "source": [
    "def read_location_data(loc_list):\n",
    "    result = [pd.read_csv(f\"../data/{loc}.csv\") for loc in loc_list]\n",
    "    return result"
   ]
  },
  {
   "cell_type": "code",
   "execution_count": 6,
   "id": "37187df8-eed4-49fd-b5e4-ae26e098f12a",
   "metadata": {},
   "outputs": [],
   "source": [
    "df_list = read_location_data(LOCATIONS_LIST)\n",
    "# Gộp dữ liệu các tỉnh lại thành 1 dataframe\n",
    "result_df = pd.concat(\n",
    "    [df.select_dtypes(exclude=\"object\") for df in df_list], ignore_index=True\n",
    ")\n",
    "# Lấy ma trận hệ số tương quan \n",
    "corr_mat = result_df.corr()"
   ]
  },
  {
   "cell_type": "code",
   "execution_count": 7,
   "id": "02212b4a-31e7-4716-82fa-63b10c098bfb",
   "metadata": {},
   "outputs": [
    {
     "name": "stdout",
     "output_type": "stream",
     "text": [
      "   DatetimeEpoch  Tempmax  Tempmin  Temp   Dew  Humidity  Precip  Precipprob  \\\n",
      "0     1546275600      8.1      5.8   7.0   3.6      79.2   0.100       100.0   \n",
      "1     1546362000     16.2      6.6   9.9   5.2      73.0   0.000         0.0   \n",
      "2     1546448400     11.7      8.5   9.9   8.2      89.4   0.499       100.0   \n",
      "3     1546534800     13.8      9.9  11.9  10.9      93.9   5.192       100.0   \n",
      "4     1546621200     16.0     11.7  13.5  12.4      93.2   0.904       100.0   \n",
      "\n",
      "   Precipcover  Windgust  Windspeed  Winddir  Pressure  Cloudcover  \\\n",
      "0         4.17      45.7       20.9     26.3    1030.0        99.0   \n",
      "1         0.00      41.4       19.1     20.7    1028.3        89.4   \n",
      "2         4.17      28.1       12.2     30.1    1025.7        99.8   \n",
      "3        12.50      18.7        8.6     25.3    1023.4       100.0   \n",
      "4         8.33      25.6       13.0     15.2    1021.9        99.9   \n",
      "\n",
      "   Visibility  Solarradiation  Solarenergy  Uvindex  Moonphase  \n",
      "0        10.8            70.7          6.0      3.0       0.83  \n",
      "1        11.8            76.2          6.6      3.0       0.87  \n",
      "2         8.0            24.8          2.0      1.0       0.90  \n",
      "3         9.3            32.9          2.8      1.0       0.94  \n",
      "4         8.9            48.7          4.1      2.0       0.97  \n"
     ]
    }
   ],
   "source": [
    "print(result_df.head())"
   ]
  },
  {
   "cell_type": "code",
   "execution_count": 8,
   "id": "4771ed89-b5af-4344-8ea7-5912acb4941b",
   "metadata": {},
   "outputs": [
    {
     "name": "stdout",
     "output_type": "stream",
     "text": [
      "               DatetimeEpoch   Tempmax   Tempmin      Temp       Dew  \\\n",
      "DatetimeEpoch       1.000000 -0.024133 -0.066624 -0.060163 -0.043321   \n",
      "Tempmax            -0.024133  1.000000  0.847693  0.948218  0.784363   \n",
      "Tempmin            -0.066624  0.847693  1.000000  0.963428  0.929718   \n",
      "Temp               -0.060163  0.948218  0.963428  1.000000  0.892332   \n",
      "Dew                -0.043321  0.784363  0.929718  0.892332  1.000000   \n",
      "\n",
      "               Humidity    Precip  Precipprob  Precipcover  Windgust  \\\n",
      "DatetimeEpoch  0.042264  0.033192    0.047554     0.007081 -0.219202   \n",
      "Tempmax       -0.299584 -0.049144   -0.050351    -0.207742  0.022236   \n",
      "Tempmin       -0.032962  0.064054    0.140102    -0.097877  0.136586   \n",
      "Temp          -0.185899  0.006841    0.034923    -0.176230  0.092387   \n",
      "Dew            0.273854  0.130652    0.275494     0.010557  0.091838   \n",
      "\n",
      "               Windspeed   Winddir  Pressure  Cloudcover  Visibility  \\\n",
      "DatetimeEpoch   0.005288  0.031227 -0.019106    0.033230    0.140062   \n",
      "Tempmax         0.194188  0.169727 -0.768904   -0.413483   -0.153375   \n",
      "Tempmin         0.327415  0.196682 -0.756126   -0.109358   -0.327580   \n",
      "Temp            0.286370  0.187820 -0.783415   -0.273022   -0.266440   \n",
      "Dew             0.232286  0.211361 -0.777523   -0.020245   -0.298386   \n",
      "\n",
      "               Solarradiation  Solarenergy   Uvindex  Moonphase  \n",
      "DatetimeEpoch        0.051873     0.052041  0.101044   0.000779  \n",
      "Tempmax              0.623434     0.623271  0.597644   0.028631  \n",
      "Tempmin              0.339374     0.339250  0.315138   0.030624  \n",
      "Temp                 0.486492     0.486336  0.453967   0.028104  \n",
      "Dew                  0.286921     0.286784  0.275300   0.033907  \n"
     ]
    }
   ],
   "source": [
    "print(corr_mat.head())"
   ]
  },
  {
   "cell_type": "markdown",
   "id": "913d2396-15bf-40bd-a924-562d539094a9",
   "metadata": {},
   "source": [
    "# Phân tích dữ liệu trước khi modeling\n",
    "## Quan sát sự tương quan giữa các thuộc tính với nhau \n",
    "- Trước khi thực hiện bước modeling, chúng ta quan sát các thuộc tính trong dữ liệu có mối quan hệ gì với nhau.\n",
    "- Thực hiện điều này sẽ cho ta thấy sự tương tác tương đối giữa các cặp dữ liệu với nhau\n",
    "## Hệ số tương quan \n",
    "$r = \\frac{\\sum (X_i - \\bar{X})(Y_i - \\bar{Y})}{\\sqrt{\\sum (X_i - \\bar{X})^2 \\sum (Y_i - \\bar{Y})^2}}$\n",
    "\n",
    "- với mỗi $X_i, Y_i$ là những điểm dữ liệu trong từng cặp thuộc tính \n",
    "- khi r > 0 tức là cặp thuộc tính có mối tương quan dương và ngược lại \n",
    "- Độ lớn của gía trị này thể hiện mức độ tương quan giữa cặp thuộc tính "
   ]
  },
  {
   "cell_type": "code",
   "execution_count": 9,
   "id": "cccddf7e-bc83-4b9d-8f6e-a666425983f0",
   "metadata": {},
   "outputs": [],
   "source": [
    "def plot_corr_matrix(corr_mat):\n",
    "    # get module for plotting corr matrix\n",
    "    import matplotlib.pyplot as plt\n",
    "    import seaborn as sns\n",
    "\n",
    "    sns.heatmap(corr_mat, cmap=\"coolwarm\", linewidths=0.5)\n",
    "    # un-comment this when use in ipynb\n",
    "    plt.show()\n",
    "    # comment this when use in notebook\n",
    "    #plt.show(block=True)"
   ]
  },
  {
   "cell_type": "code",
   "execution_count": 10,
   "id": "b8c7713e-ae19-4f9c-9940-30d9796b7820",
   "metadata": {},
   "outputs": [
    {
     "data": {
      "image/png": "[encoded data removed]",
      "text/plain": [
       "<Figure size 640x480 with 2 Axes>"
      ]
     },
     "metadata": {},
     "output_type": "display_data"
    }
   ],
   "source": [
    "plot_corr_matrix(corr_mat)"
   ]
  },
  {
   "cell_type": "markdown",
   "id": "8ea6c194-2f44-4314-a1e1-1e42e3b2ea1c",
   "metadata": {},
   "source": [
    "# Lấy các dữ liệu có hệ số tương quan cao \n",
    "- Khi ta đã trực quan hóa sự tương quan của thuộc tính độ ẩm đối với các thuộc tính còn lại \n",
    "- Ta thấy được thuộc tính này không có sự tương quan quá mạnh đối với các thuộc tính khác (lưu ý: đây chỉ là hệ số tương quan giữa 1 cặp thuộc tính 1-1, không đem lại quá nhiều ý nghĩa trong việc chọn thuộc tính nhưng cũng là một điểm khởi đầu tương đối)\n",
    "- Vì vậy ta sẽ hạ cận trên của hệ số tương quan để lấy đủ các thuộc tính cho model "
   ]
  },
  {
   "cell_type": "code",
   "execution_count": 11,
   "id": "2d07cd7c-0b75-446a-84be-32543e33a355",
   "metadata": {},
   "outputs": [],
   "source": [
    "def get_high_curr_attri(corr_mat):\n",
    "    threshold = 0.1\n",
    "    temp_df = corr_mat[TARGET]\n",
    "    result = [\n",
    "        temp_df.index[val]\n",
    "        for val, i in enumerate(temp_df)\n",
    "        if abs(i) >= threshold and i != 1.0\n",
    "    ]\n",
    "\n",
    "    return result"
   ]
  },
  {
   "cell_type": "markdown",
   "id": "1c3b98ce-90b5-4fe6-b3af-ab3436b5efbd",
   "metadata": {},
   "source": [
    "# Về 2 thuộc tính ngoại lệ \n",
    "- Vì Dew là một thuộc tính suy diễn và Tempmax không thể dự đoán chính xác bằng các phương pháp thông thường nên chúng ta sẽ loại bỏ 2 thuộc tính này ra khỏi các thuộc tính "
   ]
  },
  {
   "cell_type": "code",
   "execution_count": 12,
   "id": "c99fdf32-be3e-4a77-9e42-3fa58d43ce62",
   "metadata": {},
   "outputs": [],
   "source": [
    "attri_list = get_high_curr_attri(corr_mat)\n",
    "# không thể lấy dew vì đây là thuộc tính suy diễn \n",
    "attri_list.remove('Dew')\n",
    "attri_list.remove('Tempmax')"
   ]
  },
  {
   "cell_type": "markdown",
   "id": "66148b7d-a706-4de4-978c-1c920da9d197",
   "metadata": {},
   "source": [
    "# Về các thuộc tính đã chọn và cách có được các thuộc tính này \n",
    "- Temp: Chúng ta đã có được một số mô hình dự đoán nhiệt độ và có thể dự đoán tương đối dữ liệu này \n",
    "- Precip, Precipprob, Precipcover, Cloudcover: Các thuộc tính liên quan đến mưa có thể được dự đoán và tính toán thông qua các vệ tinh để lấy dữ liệu hình ảnh về các đám mây cũng như dự đoán được độ dày, mức độ che phủ của mây \n",
    "- Solarradiation, Solarenergy, Uvindex: dựa vào độ che phủ của mây, nồng độ Ozone khí quyển, mùa trong năm ta có thể có được con số khá chính xác về mức độ mạnh yếu của năng lượng mặt trời"
   ]
  },
  {
   "cell_type": "code",
   "execution_count": 13,
   "id": "12cb794d-2ca9-4098-a520-a9d0b6fd59ab",
   "metadata": {},
   "outputs": [
    {
     "name": "stdout",
     "output_type": "stream",
     "text": [
      "['Temp', 'Precip', 'Precipprob', 'Precipcover', 'Windspeed', 'Cloudcover', 'Solarradiation', 'Solarenergy', 'Uvindex']\n"
     ]
    }
   ],
   "source": [
    "print(attri_list)"
   ]
  },
  {
   "cell_type": "markdown",
   "id": "0a7bca61-1020-4fcd-bc75-4390ea961927",
   "metadata": {},
   "source": [
    "# Bước modeling \n"
   ]
  },
  {
   "cell_type": "markdown",
   "id": "c8eecf00-6506-4dd3-847a-73e495fd79d8",
   "metadata": {},
   "source": [
    "## Hàm Calc_loss()\n",
    "- Hàm này sẽ nhận một pipeline và tính bảng r2 score bằng phương pháp cross validation "
   ]
  },
  {
   "cell_type": "code",
   "execution_count": 14,
   "id": "255f1e55-7317-4c64-835a-4a665700ab35",
   "metadata": {},
   "outputs": [],
   "source": [
    "def calc_loss(pipe, X: pd.DataFrame, y: pd.DataFrame):\n",
    "    # X_train, X_test, y_train, y_test = train_test_split(\n",
    "    #     X, y, test_size=0.2, random_state=8412\n",
    "    # )\n",
    "    # MSE = mean_squared_error(\n",
    "    #     y_pred=pipe.predict(X_test), y_true=np.array(y_test.to_list())\n",
    "    # )\n",
    "    cv_score = cross_val_score(pipe, X, y,\n",
    "                               cv = KFold(n_splits=10,\n",
    "                                          shuffle=True,\n",
    "                                          random_state=42),\n",
    "                               scoring=\"r2\")\n",
    "    cv_score = cv_score.round(4)\n",
    "\n",
    "    return cv_score"
   ]
  },
  {
   "cell_type": "markdown",
   "id": "0c49e8cc-0cb0-475c-9190-a9cb1f5cd021",
   "metadata": {},
   "source": [
    "## Hàm Modeling\n",
    "- Hàm này sẽ nhận vào dữ liệu dưới dạng DataFrame và các thuộc tính được chọn làm tham số \n",
    "- Fit mô hình hồi quy tuyến tính vào tập dữ liệu "
   ]
  },
  {
   "cell_type": "code",
   "execution_count": 15,
   "id": "4ab7ca5e-2dd5-4acc-9f40-ab708876bd3f",
   "metadata": {},
   "outputs": [],
   "source": [
    "def modeling(result_df: pd.DataFrame, attri_list): \n",
    "    pipe = make_pipeline(StandardScaler(), LinearRegression())\n",
    "    X = result_df[attri_list]\n",
    "    y = result_df[TARGET]\n",
    "    pipe.fit(X, y)\n",
    "\n",
    "    return pipe"
   ]
  },
  {
   "cell_type": "markdown",
   "id": "af6997fe-f53a-46b2-a9fa-1ef61da3c264",
   "metadata": {},
   "source": [
    " # Bước modeling\n",
    " Sau khi đã lọc các thuộc tính không mong muốn, chúng ta bắt đầu thực hiện bước modeling: \n",
    " - Tạo pipeline, đây là bước của module sklearn giúp chúng ta nhanh chóng tạo ra một khung model bao gồm các bước chuẩn hóa dữ liệu và mô hình tương ứng \n",
    " - Đánh giá mô hình bằng việc tính r2score bằng cách gọi hàm calc_loss \n",
    " - Tạo ra mô hình cuối bằng việc gọi hàm modeling "
   ]
  },
  {
   "cell_type": "code",
   "execution_count": 19,
   "id": "6b26c00b-875e-46b5-bfcb-ff90bab6dd5f",
   "metadata": {},
   "outputs": [],
   "source": [
    "X = result_df[attri_list]\n",
    "y = result_df[TARGET]\n",
    "\n",
    "X_train, X_test, y_train, y_test = train_test_split(\n",
    "    X, y, test_size=0.2, random_state=29049\n",
    ")\n",
    "pipe = make_pipeline(StandardScaler(), LinearRegression())\n",
    "score = calc_loss(pipe, X, y)\n",
    "pipe = modeling(result_df, attri_list)"
   ]
  },
  {
   "cell_type": "markdown",
   "id": "3f761c36-0ea1-465e-b58e-65ac423413fa",
   "metadata": {},
   "source": [
    "# Đánh giá mô hình \n",
    "- Mặc dù điểm $r^2$ không cao tuy nhiên đây là một chủ đề có nhiều yếu tố ngẫu nhiên, khó đoán trước và thời tiết vốn là một yếu tố có mức độ hỗn loạn (entropy) cao \n",
    "- Con số 0.44193 có thể được coi là chấp nhận được nếu chúng ta chỉ dự đoán tương đối độ ẩm tương đối không lệch quá 20% - 30% "
   ]
  },
  {
   "cell_type": "code",
   "execution_count": 22,
   "id": "07cc23a8-e1de-4f13-bb72-6c80cb823923",
   "metadata": {},
   "outputs": [
    {
     "name": "stdout",
     "output_type": "stream",
     "text": [
      "[0.4872 0.4263 0.4249 0.4808 0.4425 0.4092 0.4266 0.4477 0.4479 0.4262]\n",
      "0.44193\n"
     ]
    }
   ],
   "source": [
    "print(score)\n",
    "print(np.mean(score))"
   ]
  },
  {
   "cell_type": "markdown",
   "id": "719fc279-5d8f-4d77-9a49-e0c598013381",
   "metadata": {},
   "source": [
    "# sử dụng mô hình \n",
    "- Dòng đầu là mô hình dự đoán \n",
    "- Dòng sau là dữ liệu thực tế "
   ]
  },
  {
   "cell_type": "code",
   "execution_count": 21,
   "id": "43190a6c-b037-4fd7-a294-f27b164e87c7",
   "metadata": {},
   "outputs": [
    {
     "name": "stdout",
     "output_type": "stream",
     "text": [
      "[71.  77.8 82.1 88.6 81.2 70.5 73.  75.5 79.9 83.2 87.8 71.  88.1 91.3\n",
      " 84.  79.3 85.9 80.1 73.7 75.4 74.2 87.8 91.1 71.4 75.8 82.6 69.7 97.5\n",
      " 69.8 73.3 83.4 83.9 81.1 71.5 84.8 93.9 79.5 84.8 79.7 81.3 87.6 70.9\n",
      " 88.3 70.  86.7 80.  86.7 71.7 73.8 77.6]\n"
     ]
    }
   ],
   "source": [
    "print(pipe.predict(X_test)[:50].round(1))"
   ]
  },
  {
   "cell_type": "code",
   "execution_count": 18,
   "id": "f524d160-8585-4b79-80cd-3bde0f3891d8",
   "metadata": {},
   "outputs": [
    {
     "name": "stdout",
     "output_type": "stream",
     "text": [
      "[72.7 87.8 84.6 87.6 89.  63.5 78.7 81.9 61.  81.5 91.  67.9 88.8 94.9\n",
      " 79.6 82.5 94.  79.6 59.1 81.9 80.7 93.4 90.  68.5 71.6 80.4 72.3 95.5\n",
      " 62.8 85.6 79.  86.6 82.5 79.5 88.5 93.3 66.4 83.5 73.  76.9 88.1 63.9\n",
      " 90.9 67.6 85.9 78.8 81.4 81.2 75.9 80.5]\n"
     ]
    }
   ],
   "source": [
    "print(np.array(y_test.head(50).to_list()))"
   ]
  }
 ],
 "metadata": {
  "kernelspec": {
   "display_name": "Python 3 (ipykernel)",
   "language": "python",
   "name": "python3"
  },
  "language_info": {
   "codemirror_mode": {
    "name": "ipython",
    "version": 3
   },
   "file_extension": ".py",
   "mimetype": "text/x-python",
   "name": "python",
   "nbconvert_exporter": "python",
   "pygments_lexer": "ipython3",
   "version": "3.13.0"
  }
 },
 "nbformat": 4,
 "nbformat_minor": 5
}
