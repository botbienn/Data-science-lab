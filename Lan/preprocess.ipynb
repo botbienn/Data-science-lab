{
 "cells": [
  {
   "cell_type": "code",
   "execution_count": 1,
   "metadata": {},
   "outputs": [],
   "source": [
    "import pandas as pd"
   ]
  },
  {
   "cell_type": "code",
   "execution_count": 24,
   "metadata": {},
   "outputs": [],
   "source": [
    "chosen_features = [ # Các thuộc tính được chọn\n",
    "    'Address', \n",
    "    'Datetime', \n",
    "    'DatetimeEpoch', \n",
    "    'Tempmax', \n",
    "    'Tempmin', \n",
    "    'Temp', \n",
    "    'Dew', \n",
    "    'Humidity', \n",
    "    'Precip', \n",
    "    'Precipprob', \n",
    "    'Precipcover',\n",
    "    'Preciptype', \n",
    "    'Windgust', \n",
    "    'Windspeed', \n",
    "    'Winddir', \n",
    "    'Pressure',\n",
    "    'Cloudcover', \n",
    "    'Visibility', \n",
    "    'Solarradiation', \n",
    "    'Solarenergy', \n",
    "    'Uvindex', \n",
    "    'Moonphase'\n",
    "]\n",
    "\n",
    "locations = [\n",
    "    'Ho Chi Minh',\n",
    "    'Ben Tre',\n",
    "    'DaNang',\n",
    "    'HaNoi',\n",
    "    'LamDong',\n",
    "    # 'LangSon',\n",
    "    'NgheAn',\n",
    "    # 'SonLa'\n",
    "]"
   ]
  },
  {
   "cell_type": "code",
   "execution_count": 3,
   "metadata": {},
   "outputs": [],
   "source": [
    "def drop_columns(df: pd.DataFrame):\n",
    "    df = df[chosen_features]\n",
    "    return df"
   ]
  },
  {
   "cell_type": "code",
   "execution_count": 25,
   "metadata": {},
   "outputs": [],
   "source": [
    "for loc in locations:\n",
    "    df = pd.read_csv(f'Data/{loc}.csv')\n",
    "    df = drop_columns(df)\n",
    "    df.to_csv(f'Data/{loc}.csv')"
   ]
  }
 ],
 "metadata": {
  "kernelspec": {
   "display_name": "min_ds-env2",
   "language": "python",
   "name": "python3"
  },
  "language_info": {
   "codemirror_mode": {
    "name": "ipython",
    "version": 3
   },
   "file_extension": ".py",
   "mimetype": "text/x-python",
   "name": "python",
   "nbconvert_exporter": "python",
   "pygments_lexer": "ipython3",
   "version": "3.10.15"
  }
 },
 "nbformat": 4,
 "nbformat_minor": 2
}
