{
 "cells": [
  {
   "cell_type": "code",
   "execution_count": 2,
   "metadata": {},
   "outputs": [],
   "source": [
    "import pandas as pd\n",
    "from datetime import datetime"
   ]
  },
  {
   "cell_type": "code",
   "execution_count": 3,
   "metadata": {},
   "outputs": [],
   "source": [
    "locations = [\n",
    "    'Ho Chi Minh',\n",
    "    'Ben Tre',\n",
    "    'DaNang',\n",
    "    'HaNoi',\n",
    "    'LamDong',\n",
    "    'LangSon',\n",
    "    'NgheAn',\n",
    "    'SonLa'\n",
    "]\n",
    "pd.set_option('display.max_columns', None)"
   ]
  },
  {
   "cell_type": "code",
   "execution_count": 4,
   "metadata": {},
   "outputs": [],
   "source": [
    "df = pd.read_csv(f'Data/{locations[0]}.csv', index_col=0)\n",
    "\n",
    "for i in range(1, len(locations)):\n",
    "    tmp = pd.read_csv(f'Data/{locations[i]}.csv', index_col=0)\n",
    "    df = pd.concat([df, tmp], axis=0).reset_index(drop=True)\n",
    "\n",
    "df.to_csv('Data/raw_dataset.csv')"
   ]
  },
  {
   "cell_type": "code",
   "execution_count": 5,
   "metadata": {},
   "outputs": [
    {
     "name": "stdout",
     "output_type": "stream",
     "text": [
      "<class 'pandas.core.frame.DataFrame'>\n",
      "Int64Index: 14616 entries, 0 to 14615\n",
      "Data columns (total 22 columns):\n",
      " #   Column          Non-Null Count  Dtype  \n",
      "---  ------          --------------  -----  \n",
      " 0   Address         14616 non-null  object \n",
      " 1   Datetime        14616 non-null  object \n",
      " 2   DatetimeEpoch   14616 non-null  int64  \n",
      " 3   Tempmax         14616 non-null  float64\n",
      " 4   Tempmin         14616 non-null  float64\n",
      " 5   Temp            14616 non-null  float64\n",
      " 6   Dew             14616 non-null  float64\n",
      " 7   Humidity        14616 non-null  float64\n",
      " 8   Precip          14616 non-null  float64\n",
      " 9   Precipprob      14616 non-null  float64\n",
      " 10  Precipcover     14616 non-null  float64\n",
      " 11  Preciptype      10414 non-null  object \n",
      " 12  Windgust        14616 non-null  float64\n",
      " 13  Windspeed       14616 non-null  float64\n",
      " 14  Winddir         14616 non-null  float64\n",
      " 15  Pressure        14616 non-null  float64\n",
      " 16  Cloudcover      14616 non-null  float64\n",
      " 17  Visibility      13504 non-null  float64\n",
      " 18  Solarradiation  14616 non-null  float64\n",
      " 19  Solarenergy     14616 non-null  float64\n",
      " 20  Uvindex         14616 non-null  float64\n",
      " 21  Moonphase       14616 non-null  float64\n",
      "dtypes: float64(18), int64(1), object(3)\n",
      "memory usage: 2.6+ MB\n"
     ]
    }
   ],
   "source": [
    "df = pd.read_csv('Data/raw_dataset.csv', index_col=0)\n",
    "df.info()"
   ]
  },
  {
   "cell_type": "code",
   "execution_count": 6,
   "metadata": {},
   "outputs": [],
   "source": [
    "def missing_ratio(x):\n",
    "    return x.isna().mean()\n",
    "\n",
    "def fill_mean(x):\n",
    "    return x.fillna(x.mean())"
   ]
  },
  {
   "cell_type": "code",
   "execution_count": 7,
   "metadata": {},
   "outputs": [
    {
     "name": "stdout",
     "output_type": "stream",
     "text": [
      "               Preciptype\n",
      "missing_ratio    0.254516\n",
      "               Preciptype\n",
      "missing_ratio    0.238643\n",
      "               Preciptype\n",
      "missing_ratio     0.41434\n",
      "               Preciptype\n",
      "missing_ratio    0.282978\n",
      "               Preciptype  Visibility\n",
      "missing_ratio     0.15873    0.604817\n",
      "               Preciptype  Visibility\n",
      "missing_ratio    0.249042    0.000547\n",
      "               Preciptype  Visibility\n",
      "missing_ratio    0.343186    0.001642\n",
      "               Preciptype  Visibility\n",
      "missing_ratio    0.358511    0.001642\n"
     ]
    }
   ],
   "source": [
    "for location in locations:\n",
    "    df = pd.read_csv(f'Data/{location}.csv', index_col=0)\n",
    "    tmp = df.agg([missing_ratio])\n",
    "    filtered = [h for h in tmp.columns if tmp[h].iloc[0] > 0]\n",
    "    print(tmp[filtered])"
   ]
  },
  {
   "cell_type": "code",
   "execution_count": 8,
   "metadata": {},
   "outputs": [
    {
     "name": "stdout",
     "output_type": "stream",
     "text": [
      "               Preciptype\n",
      "missing_ratio    0.254516\n",
      "               Preciptype\n",
      "missing_ratio    0.238643\n",
      "               Preciptype\n",
      "missing_ratio     0.41434\n",
      "               Preciptype\n",
      "missing_ratio    0.282978\n",
      "               Preciptype\n",
      "missing_ratio     0.15873\n",
      "               Preciptype\n",
      "missing_ratio    0.249042\n",
      "               Preciptype\n",
      "missing_ratio    0.343186\n",
      "               Preciptype\n",
      "missing_ratio    0.358511\n"
     ]
    }
   ],
   "source": [
    "for location in locations:\n",
    "    df = pd.read_csv(f'Data/{location}.csv', index_col=0)\n",
    "\n",
    "    df['Visibility'] = df.groupby('Address')['Visibility'].transform(fill_mean)\n",
    "    tmp = df.agg([missing_ratio])\n",
    "    filtered = [h for h in tmp.columns if tmp[h].iloc[0] > 0]\n",
    "    print(tmp[filtered])\n",
    "    df.to_csv(f'Data/cleaned/{location}.csv')"
   ]
  },
  {
   "cell_type": "code",
   "execution_count": 9,
   "metadata": {},
   "outputs": [],
   "source": [
    "# kiểm tra mâu thuẫn\n",
    "for location in locations:\n",
    "    # 1. tempmin <= temp <= tempmax\n",
    "    df = pd.read_csv(f'Data/{location}.csv', index_col=0)\n",
    "    tmp = df[['Tempmax', 'Tempmin', 'Temp']].copy()\n",
    "    for i, row in tmp.iterrows():\n",
    "        assert (row['Tempmin'] <= row['Temp'] <= row['Tempmax'])\n",
    "\n",
    "    # 2. datetime và datetimeepoch\n",
    "    def sec(date2):\n",
    "        date1 = \"1970-01-01\"\n",
    "        date_format = \"%Y-%m-%d\"\n",
    "        tzoffset = 7\n",
    "        datetime1 = datetime.strptime(date1, date_format)\n",
    "        datetime2 = datetime.strptime(date2, date_format)\n",
    "\n",
    "        return (datetime2 - datetime1).total_seconds() - tzoffset * 3600\n",
    "\n",
    "    tmp = df[['Datetime', 'DatetimeEpoch']].copy()\n",
    "    for i, row in tmp.iterrows():\n",
    "        assert row['DatetimeEpoch'] == sec(row['Datetime'])\n",
    "\n",
    "    # 3. Kiểm tra duplicate\n",
    "    assert df.duplicated().sum() == 0"
   ]
  }
 ],
 "metadata": {
  "kernelspec": {
   "display_name": "min_ds-env2",
   "language": "python",
   "name": "python3"
  },
  "language_info": {
   "codemirror_mode": {
    "name": "ipython",
    "version": 3
   },
   "file_extension": ".py",
   "mimetype": "text/x-python",
   "name": "python",
   "nbconvert_exporter": "python",
   "pygments_lexer": "ipython3",
   "version": "3.10.15"
  }
 },
 "nbformat": 4,
 "nbformat_minor": 2
}
