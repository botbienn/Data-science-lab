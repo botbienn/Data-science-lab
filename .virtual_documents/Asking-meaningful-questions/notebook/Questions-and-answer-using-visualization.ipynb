


























import numpy as np
import pandas as pd
from matplotlib import pyplot as plt
import seaborn as sns








df1 = pd.read_csv('../../data/pre_processed-data/HoChiMinh.csv')
df2 = pd.read_csv('../../data/pre_processed-data/BenTre.csv')
df3 = pd.read_csv('../../data/pre_processed-data/DaNang.csv')
df4 = pd.read_csv('../../data/pre_processed-data/HaNoi.csv')
df5 = pd.read_csv('../../data/pre_processed-data/LangSon.csv')
df6 = pd.read_csv('../../data/pre_processed-data/LamDong.csv')
df7 = pd.read_csv('../../data/pre_processed-data/NgheAn.csv')
df8 = pd.read_csv('../../data/pre_processed-data/SonLa.csv')





df = pd.concat([df1, df2, df3, df4, df5, df6, df7, df8])
df.head()


df.info()





df['Datetime'] = pd.to_datetime(df['Datetime'])
df['Year'] = df['Datetime'].dt.year
df['Month'] = df['Datetime'].dt.month


df.info()





# Chọn các cột cần thiết
data = df[['Address', 'Temp', 'Humidity', 'Precip', 'Windspeed', 'Pressure']]

# Tính giá trị trung bình theo tỉnh thành
radar_df = data.groupby('Address').mean()

# Chuẩn hóa dữ liệu về thang đo [0, 1]
radar_normalized_df = (radar_df - radar_df.min()) / (radar_df.max() - radar_df.min())
radar_normalized_df = radar_normalized_df.reset_index()

# Danh sách các tỉnh miền Bắc và miền Nam
northern = ['Hà Nội', 'Lạng Sơn', 'Nghệ An', 'Sơn La']
southern = ['Hồ Chí Minh', 'Bến Tre', 'Lâm Đồng', 'Đà Nẵng']

# Tách dữ liệu theo khu vực
northern_df = radar_normalized_df[radar_normalized_df['Address'].isin(northern)]
southern_df = radar_normalized_df[radar_normalized_df['Address'].isin(southern)]

radar_df





# Hàm để tạo góc cho các trục radar
def get_angles(num_vars):
    angles = np.linspace(0, 2 * np.pi, num_vars, endpoint=False).tolist()
    angles += angles[:1]  # Đóng vòng tròn
    return angles

# Hàm để vẽ radar chart
def plot_radar(ax, data, title, categories):
    num_vars = len(categories)
    angles = get_angles(num_vars)
    
    for i, row in data.iterrows():
        values = row[categories].tolist()
        values += values[:1]
        ax.plot(angles, values, label=row['Address'])
        ax.fill(angles, values, alpha=0.25)
    
    # Cài đặt các trục
    ax.set_theta_offset(np.pi / 2)
    ax.set_theta_direction(-1)
    ax.set_xticks(angles[:-1])
    ax.set_xticklabels(categories)
    ax.set_yticks([0.0, 0.2, 0.4, 0.6, 0.8, 1.0])
    ax.set_yticklabels([f'{tick:.1f}' for tick in [0.0, 0.2, 0.4, 0.6, 0.8, 1.0]], fontsize=10)
    ax.set_ylim(-0.1, 1.05)
    ax.set_title(title, size=14, pad=20)
    ax.legend(loc='upper right', bbox_to_anchor=(1.2, 1.1))
    

# Các cột yếu tố khí hậu
categories = ['Temp', 'Humidity', 'Precip', 'Windspeed', 'Pressure']

# Thiết lập biểu đồ
fig, axs = plt.subplots(1, 2, figsize=(16, 8), subplot_kw=dict(polar=True))

# Vẽ radar chart cho khu vực miền Nam
plot_radar(axs[0], southern_df, "Radar Chart for Southern", categories)

# Vẽ radar chart cho khu vực miền Bắc
plot_radar(axs[1], northern_df, "Radar Chart for Northern", categories)

# Hiển thị biểu đồ
plt.tight_layout()
plt.show()











# Chuyển đổi dữ liệu Temp, Tempmax, Tempmin thành chuỗi thời gian và tính giá trị lớn nhất theo tuần (W).
data = df.set_index('Datetime')
max_temp_df = data[['Temp', 'Tempmax', 'Tempmin']].resample('W').max()
max_temp_df.head()


# Chuyển đổi dữ liệu Precip thành chuỗi thời gian và tính tổng lượng mưa theo tuần (weekly).
data = df.set_index('Datetime')
total_precip_df = data[['Precip']].resample('W').sum()
total_precip_df.head()





# Thiết lập biểu đồ
plt.figure(figsize=(10, 6))

# Vẽ biểu đồ đường nhiệt độ trung bình, nhiệt độ cao nhất, nhiệt độ thấp nhất
plt.plot(max_temp_df.index, max_temp_df['Tempmax'], label='Max Temp', color='#ff7f7f', alpha=1, linewidth=1.2)
plt.plot(max_temp_df.index, max_temp_df['Temp'], label='Avg Temp', color='#7fbf7f', alpha=1, linewidth=1.2)
plt.plot(max_temp_df.index, max_temp_df['Tempmin'], label='Min Temp', color='#7f7fff', alpha=1, linewidth=1.2)

# Thêm tiêu đề và tên trục
plt.title('Temperature Trends', fontsize=14, pad=15)
plt.xlabel('Date', fontsize=12)
plt.ylabel('Temperature (°C)', fontsize=12)
plt.grid(True, alpha=0.5)

# Hiển thị chú thích và biểu đồ
plt.legend(loc='upper right', fontsize=10)
plt.tight_layout()
plt.show()


# Thiết lập biểu đồ
plt.figure(figsize=(10, 6))

# Vẽ biểu đồ đường lượng mưa
plt.plot(total_precip_df.index, total_precip_df['Precip'], label='Total Precip', color='#7f7fff', alpha=1, linewidth=1.2)

# Thêm tiêu đề và tên trục
plt.title('Precipitation Trends', fontsize=14, pad=15)
plt.xlabel('Date', fontsize=12)
plt.ylabel('Precip (mm)', fontsize=12)
plt.grid(True, alpha=0.5)

# Hiển thị chú thích và biểu đồ
plt.legend(loc='upper right', fontsize=10)
plt.tight_layout()
plt.show()











# Danh sách tỉnh thành
northern = ['Hà Nội', 'Lạng Sơn', 'Nghệ An', 'Sơn La']
southern = ['Hồ Chí Minh', 'Bến Tre', 'Lâm Đồng', 'Đà Nẵng']

# Tách dữ liệu theo khu vực
northern_df = df[df['Address'].isin(northern)]
southern_df = df[df['Address'].isin(southern)]

# Tính nhiệt độ trung bình ngày
northern_df = northern_df.groupby('Datetime')['Temp'].mean().reset_index()
southern_df = southern_df.groupby('Datetime')['Temp'].mean().reset_index()

# Lọc dữ liệu theo khoảng thời gian
northern_df = northern_df.set_index('Datetime')['2022-03-01':'2023-02-28']
southern_df = southern_df.set_index('Datetime')['2022-05-01':'2023-04-30']

# Chia dữ liệu theo mùa
northern_spring = northern_df['2022-03-01':'2022-05-31']
northern_summer = northern_df['2022-06-01': '2022-08-31']
northern_fall = northern_df['2022-09-01': '2022-11-30']
northern_winter = northern_df['2022-12-01': '2023-02-28']

southern_rainy  = southern_df['2022-05-01':'2022-11-30']
southern_dry = southern_df['2022-12-01': '2023-04-30']





# Thiết lập biểu đồ
fig, axs = plt.subplots(2, 2, figsize=(15, 10))

# Mùa xuân
axs[0, 0].plot(northern_spring.index, northern_spring['Temp'], color='green', label='Mùa xuân')
axs[0, 0].set_title("Nhiệt độ mùa xuân miền bắc (2022)")
axs[0, 0].set_xlabel("Thời gian")
axs[0, 0].set_ylabel("Nhiệt độ (°C)")
axs[0, 0].legend()
axs[0, 0].grid(True)

# Mùa hè
axs[0, 1].plot(northern_summer.index, northern_summer['Temp'], color='orange', label='Mùa hè')
axs[0, 1].set_title("Nhiệt độ mùa hè miền bắc (2022)")
axs[0, 1].set_xlabel("Thời gian")
axs[0, 1].set_ylabel("Nhiệt độ (°C)")
axs[0, 1].legend()
axs[0, 1].grid(True)

# Mùa thu
axs[1, 0].plot(northern_fall.index, northern_fall['Temp'], color='brown', label='Mùa thu')
axs[1, 0].set_title("Nhiệt độ mùa thu miền bắc (2022)")
axs[1, 0].set_xlabel("Thời gian")
axs[1, 0].set_ylabel("Nhiệt độ (°C)")
axs[1, 0].legend()
axs[1, 0].grid(True)

# Mùa đông
axs[1, 1].plot(northern_winter.index, northern_winter['Temp'], color='blue', label='Mùa đông')
axs[1, 1].set_title("Nhiệt độ mùa đông miền bắc (2022-2023)")
axs[1, 1].set_xlabel("Thời gian")
axs[1, 1].set_ylabel("Nhiệt độ (°C)")
axs[1, 1].legend()
axs[1, 1].grid(True)

# Hiển thị chú thích và biểu đồ
plt.tight_layout()
plt.show()


# Thiết lập biểu đồ
fig, axs = plt.subplots(1, 2, figsize=(15, 5))

# Mùa mưa
axs[0].plot(southern_rainy.index, southern_rainy['Temp'], color='green', label='Mùa xuân')
axs[0].set_title("Nhiệt độ mùa mưa miền nam (2022)")
axs[0].set_xlabel("Thời gian")
axs[0].set_ylabel("Nhiệt độ (°C)")
axs[0].legend()
axs[0].grid(True)

# Mùa khô
axs[1].plot(southern_dry.index, southern_dry['Temp'], color='orange', label='Mùa hè')
axs[1].set_title("Nhiệt độ mùa khô miền nam(2023)")
axs[1].set_xlabel("Thời gian")
axs[1].set_ylabel("Nhiệt độ (°C)")
axs[1].legend()
axs[1].grid(True)

# Hiển thị chú thích và biểu đồ
plt.tight_layout()
plt.show()











# Chọn khu vực Đà Nẵng và Nghệ An
mid_vietnam = ['Đà Nẵng', 'Nghệ An']

# Tính giá trị trung bình theo tháng
mid_vietnam_df = df[df['Address'].isin(mid_vietnam)].set_index('Datetime')
mid_vietnam_df = mid_vietnam_df[['Temp', 'Humidity', 'Precip']].resample("M").mean()
mid_vietnam_df['Month'] = mid_vietnam_df.index.month
mid_vietnam_df.head()





# Thiết lập biểu đồ
fig = plt.figure(figsize=(10, 8))
grid = plt.GridSpec(4, 4, hspace=0.5, wspace=0.5)
scatter_axes = fig.add_subplot(grid[0:3, 1:])
y_hist_axes = fig.add_subplot(grid[0:3, 0], sharey=scatter_axes)
x_hist_axes = fig.add_subplot(grid[3, 1:], sharex=scatter_axes)

# Vẽ scatter plot cho nhiệt độ và độ ẩm 
scatter = scatter_axes.scatter(
    mid_vietnam_df['Temp'], 
    mid_vietnam_df['Humidity'], 
    cmap='viridis', 
    alpha=0.6, 
    s=50
)

# Vẽ đường hồi quy cho scatter plot
sns.regplot(
    data=mid_vietnam_df, 
    x='Temp', 
    y='Humidity', 
    ax=scatter_axes, 
    scatter=False,
    line_kws={'color': 'red', 'linewidth': 2}
)

# Vẽ histogram trục Y (Humidity)
y_hist_axes.hist(mid_vietnam_df['Humidity'], bins=20, 
                 orientation='horizontal', color='green', alpha=0.7)
y_hist_axes.invert_xaxis()

# Vẽ histogram trục X (Temp)
x_hist_axes.hist(mid_vietnam_df['Temp'], bins=20, 
                 color='blue', alpha=0.7)
x_hist_axes.invert_yaxis()

# Thêm tiêu đề và tên trục
scatter_axes.set_title('Temperature vs Humidity', fontsize=14)
scatter_axes.set_xlabel('Temperature (°C)', fontsize=12)
scatter_axes.set_ylabel('Humidity (%)', fontsize=12)

# Hiển thị biểu đồ
plt.show()


# Tính toán hệ số tương quan giữa Temp và Humidity
correlation = mid_vietnam_df['Temp'].corr(mid_vietnam_df['Humidity'])
print(f"Correlation coefficient between Temp and Humidity: {correlation:.2f}")





# Thiết lập biểu đồ
plt.figure(figsize=(12, 6))

# Vẽ boxplot nhiệt độ
plt.subplot(1, 2, 1)
sns.boxplot(x=mid_vietnam_df['Month'], y=mid_vietnam_df['Temp'], palette='coolwarm')
plt.title("Temperature Distribution by Month", fontsize=14)
plt.xlabel("Month")
plt.ylabel("Temperature (°C)")

# Vẽ boxplot độ ẩm
plt.subplot(1, 2, 2)
sns.boxplot(x=mid_vietnam_df['Month'], y=mid_vietnam_df['Humidity'], palette='coolwarm')
plt.title("Humidity Distribution by Month", fontsize=14)
plt.xlabel("Month")
plt.ylabel("Humidity (%)")

# Hiển thị biểu đồ
plt.tight_layout()
plt.show()


# Thiết lập biểu đồ
plt.figure(figsize=(12, 6))

# Vẽ boxplot lượng mưa
sns.boxplot(x=mid_vietnam_df['Month'], y=mid_vietnam_df['Precip'], palette='coolwarm')
plt.title("Precipitation Distribution by Month", fontsize=14)
plt.xlabel("Month")
plt.ylabel("Precipitation (mm)")

# Hiển thị biểu đồ
plt.tight_layout()
plt.show()








# Chọn khu vực Hồ Chí Minh và Bến Tre
southern = ['Hồ Chí Minh', 'Bến Tre']
# Tính giá trị trung bình theo tháng
southern_df = df[df['Address'].isin(southern)].set_index('Datetime')
southern_df = southern_df[['Windspeed', 'Pressure']].resample("M").mean()
southern_df['Month'] = southern_df.index.month
southern_df.head()





# Thiết lập biểu đồ
fig = plt.figure(figsize=(10, 8))
grid = plt.GridSpec(4, 4, hspace=0.5, wspace=0.5)
scatter_axes = fig.add_subplot(grid[0:3, 1:])
y_hist_axes = fig.add_subplot(grid[0:3, 0], sharey=scatter_axes)
x_hist_axes = fig.add_subplot(grid[3, 1:], sharex=scatter_axes)

# Vẽ scatter plot cho nhiệt độ và độ ẩm 
scatter = scatter_axes.scatter(
    southern_df['Windspeed'], 
    southern_df['Pressure'], 
    cmap='crest', 
    alpha=0.6, 
    s=50
)

# Vẽ đường hồi quy cho scatter plot
sns.regplot(
    data=southern_df, 
    x='Windspeed', 
    y='Pressure', 
    ax=scatter_axes, 
    scatter=False,
    line_kws={'color': 'red', 'linewidth': 2}
)

# Histogram trục Y (Pressure)
y_hist_axes.hist(southern_df['Pressure'], bins=20, 
                 orientation='horizontal', color='orange', alpha=0.7)
y_hist_axes.invert_xaxis()

# Histogram trục X (Windspeed)
x_hist_axes.hist(southern_df['Windspeed'], bins=20, 
                 color='blue', alpha=0.7)
x_hist_axes.invert_yaxis()

# Thêm tiêu đề và tên trục
scatter_axes.set_title('Windspeed vs Pressure', fontsize=14)
scatter_axes.set_xlabel('Windspeed', fontsize=12)
scatter_axes.set_ylabel('Pressure', fontsize=12)
plt.show()


# Tính toán hệ số tương quan giữa Windspeed và Pressure
correlation = southern_df['Windspeed'].corr(southern_df['Pressure'])
print(f"Correlation coefficient between Windspeed and Pressure: {correlation:.2f}")





# Thiết lập biểu đồ
plt.figure(figsize=(12, 6))

# Vẽ boxplot tốc độ gió
plt.subplot(1, 2, 1)
sns.boxplot(x=southern_df['Month'], y=southern_df['Windspeed'], palette='viridis')
plt.title("Windspeed Distribution by Month", fontsize=14)
plt.xlabel("Month")
plt.ylabel("Windspeed (km/h)")

# Vẽ boxplot áp suất không khí
plt.subplot(1, 2, 2)
sns.boxplot(x=southern_df['Month'], y=southern_df['Pressure'], palette='viridis')
plt.title("Pressure Distribution by Month", fontsize=14)
plt.xlabel("Month")
plt.ylabel("Pressure (hPa)")

# Hiển thị biểu đồ
plt.tight_layout()
plt.show()



