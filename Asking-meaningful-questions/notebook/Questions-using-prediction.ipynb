{
 "cells": [
  {
   "cell_type": "markdown",
   "metadata": {},
   "source": [
    "# Đặt các câu hỏi cần dùng mô hình dữ liệu để trả lời\n",
    "- 4 câu hỏi này liên quan đến việc dự đoán, vì vậy cần sử dụng mô hình dữ liệu (data modelling) để trả lời.\n",
    "- Chủ đề về **thời tiết**"
   ]
  },
  {
   "cell_type": "markdown",
   "metadata": {},
   "source": [
    "## Câu hỏi:"
   ]
  },
  {
   "cell_type": "markdown",
   "metadata": {},
   "source": [
    "### Câu 1: Dự đoán một ngày nào đó có mưa không tại một tỉnh thành cụ thể?\n",
    "- Ý nghĩa của việc trả lời câu hỏi: Nhầm phục vụ cho việc di chuyển, vận chuyển hàng hóa, ăn chơi, du lịch tại những ngày cụ thể\n",
    "\n",
    "- Cách trả lời câu hỏi: Sử dụng mô hình học máy kết hợp với trực quan dữ liệu\n",
    "    - Bước 1: Chọn đặc trưng\n",
    "        - Cột mục tiêu: Một trong 2 cột Precipprob và Preciptype đều có thể chọn làm cột mục tiêu\n",
    "            - Lý do chọn 1 trong 2 cột này: Ta thấy 2 cột này trong bảng dữ liệu là kết quả thực tế tại một ngày cụ thể có mưa hay là không. Vậy nên 2 cột này có thể đại diện cho yêu cầu câu hỏi đã đặt ra.\n",
    "        - Cột đặc trưng: Có thể chọn cột Temp, Dew, Humidity,...\n",
    "            - Lý do chọn các cột: \n",
    "                - Dựa vào kinh nghiệm cá nhân: cần phải giải thích\n",
    "                - Dựa vào Hệ số tương quan(Correlation), Kiểm định thống kê (Chi-Square Test)\n",
    "                - Sử dụng kỹ thuật giảm chiều (Data reduction) trong slide kết hợp với Hệ số tương quan để chọn ra đặc trưng tốt nhất\n",
    "    - Bước 2: Chọn mô hình học máy và sử dụng\n",
    "        - Mô hình học máy có thể sử dụng: Regression hoặc Classification. Sử dụng thêm trực quan hóa để dễ chọn ra mô hình phù hợp.\n",
    "        - Nếu chọn Regression:\n",
    "            - Một số mô hình cụ thể: Linear Regression, Random Forest Regression,...\n",
    "            - Cách sử dụng:\n",
    "                - Chọn đặc trưng (Đã trình bày ở trên)\n",
    "                - Chuẩn hóa dữ liệu cho từng cột\n",
    "                - Chia tập dữ liệu ( Chia ra thành 3 tập (train, test, valid) theo thời gian vì đây là bài toán dự đoán)\n",
    "                - Sử dụng mô hình cụ thể\n",
    "                - Đánh giá mô hình: có thể chọn các phương pháp như Mean Absolute Error (MAE) hoặc Mean Squared Error(MSE)\n",
    "                - Tối ưu mô hình: sử dụng phương pháp như Cross-Validation, Hyperparameter Tuning,...\n",
    "            - Có thể thực hiện với nhiều mô hình hồi quy cụ thể để nhằm mục đích đánh giá để chọn ra mô hình nào tốt nhất\n",
    "        - Nếu chọn Classification:\n",
    "            - Một số mô hình cụ thể: Logistic Regression, Random Forest, Gradient Boosting,...\n",
    "            - Cách sử dụng:\n",
    "                - Chọn đặc trưng (Đã trình bày ở trên)\n",
    "                - Chuẩn hóa dữ liệu cho từng cột\n",
    "                - Chia tập dữ liệu ( Chia ra thành 3 tập (train, test, valid) theo thời gian vì đây là bài toán dự đoán)\n",
    "                - Sử dụng mô hình cụ thể\n",
    "                - Đánh giá mô hình: có thể sử dụng Precision, Accuracy, Recall,...\n",
    "                - Tối ưu mô hình: sử dụng phương pháp như Cross-Validation, Hyperparameter Tuning,...\n",
    "            - Có thể thực hiện với nhiều mô hình Classification cụ thể để nhằm mục đích đánh giá để chọn ra mô hình nào tốt nhất"
   ]
  },
  {
   "cell_type": "markdown",
   "metadata": {},
   "source": [
    "### Câu 2: Những thuộc tính nào ảnh hưởng đến độ ẩm của không khí ? dự đoán độ ẩm không khí vào một thời điểm cụ thể.\n",
    "- Ý nghĩa của việc trả lời câu hỏi: \n",
    "    - Vì độ ẩm sẽ ảnh hưởng tới sức khỏe của người nên dự đoán được độ ẩm sẽ đem lại các kế hoạch bảo vệ sức khỏe \n",
    "    - Độ ẩm cao sẽ ảnh hưởng tới một số các thiết bị điện tử, gây nhiều ẩm mốc, khó bảo quản thực phẩm, tụ nước ở các bề mặt ,...\n",
    "\n",
    "- Cách trả lời câu hỏi: \n",
    "    - Tiền xử lý dữ liệu, điền các thuộc tính bị thiếu và chuẩn hóa các giá trị để đem lại hiệu suất cao hơn \n",
    "    - Đối với mỗi thuộc tính trong dataset (trừ Address, datetime) ta sẽ tính hệ số tương quan đối với thuộc tính độ ẩm (humidity) \n",
    "    - Chọn ra những thuộc tính có hệ số tương quan lớn hơn hoặc bằng 0.7\n",
    "    - Chia tập dữ liệu ra làm 3 phần: train, test và evaluation \n",
    "    - Sử dụng mô hình hồi quy để tính toán độ ẩm tương đối của 1 tỉnh trong 1 ngày đó \n",
    "    - Đánh giá mô hình giảm thiểu sai số "
   ]
  },
  {
   "cell_type": "markdown",
   "metadata": {},
   "source": [
    "### Câu 3: Dự đoán nhiệt độ trung bình (**temp**) vào 1 ngày cụ thể.\n",
    "- Ý nghĩa: \n",
    "    - Lập kế hoạch hoạt động ngoài trời: Các công ty, tổ chức, hoặc cá nhân có thể lên kế hoạch cho các sự kiện ngoài trời (du lịch, thể thao, xây dựng, sản xuất nông nghiệp, v.v.) dựa trên dự báo nhiệt độ.\n",
    "    -  Quản lý năng lượng: Dự báo nhiệt độ có thể giúp các công ty năng lượng (điện, khí đốt) điều chỉnh lượng tiêu thụ và cung cấp năng lượng, ví dụ như tăng công suất làm lạnh hoặc sưởi ấm vào những ngày có nhiệt độ cực đoan.\n",
    "    - Đưa ra các biện pháp bảo vệ sức khỏe: Việc dự đoán nhiệt độ trung bình có thể giúp các cơ quan y tế đưa ra cảnh báo và khuyến cáo về sức khỏe khi có đợt nóng hoặc lạnh cực đoan (chẳng hạn như nguy cơ sốc nhiệt hay hạ thân nhiệt).\n",
    "    - Ứng dụng trong nông nghiệp: Dự đoán nhiệt độ là thông tin quan trọng cho nông dân trong việc quyết định thời điểm gieo trồng, thu hoạch, hoặc bảo vệ cây trồng khỏi những thay đổi nhiệt độ bất thường.\n",
    "\n",
    "- Cách trả lời:\n",
    "    - Bước 1: Chọn đặc trưng\n",
    "        - Cột mục tiêu: cột **temp**\n",
    "            - Lý do chọn: đây là cột chứa nhiệt độ trung bình trong ngày của dataset.\n",
    "        - Cột đặc trưng: Có thể chọn cột TempMax, TempMin, Dew, Humidity,...\n",
    "            - Lý do chọn các cột:\n",
    "                - Dựa vào kinh nghiệm cá nhân: cần phải giải thích\n",
    "                - Dựa vào Hệ số tương quan(Correlation), Kiểm định thống kê (Chi-Square Test)\n",
    "                - Sử dụng kỹ thuật giảm chiều (Data reduction) trong slide kết hợp với Hệ số tương quan để chọn ra đặc trưng tốt nhất\n",
    "\n",
    "    - Bước 2: Chọn mô hình học máy và sử dụng\n",
    "        - Mô hình học máy có thể sử dụng: Linear Regression.\n",
    "        - Cách sử dụng:\n",
    "            - Chọn đặc trưng (Đã trình bày ở trên)\n",
    "            - Chuẩn hóa dữ liệu cho từng cột\n",
    "            - Chia tập dữ liệu ( Chia ra thành 3 tập (train, test, valid) theo thời gian vì đây là bài toán dự đoán)\n",
    "            - Sử dụng mô hình cụ thể\n",
    "            - Đánh giá mô hình: có thể chọn các phương pháp như Mean Absolute Error (MAE) hoặc Mean Squared Error(MSE), ...\n",
    "            - Tối ưu mô hình: sử dụng phương pháp như Cross-Validation, Hyperparameter Tuning,...\n",
    "        - Có thể thực hiện với nhiều mô hình hồi quy cụ thể để nhằm mục đích đánh giá để chọn ra mô hình nào tốt nhất."
   ]
  },
  {
   "cell_type": "markdown",
   "metadata": {},
   "source": [
    "### Câu 4: Dự đoán tốc độ gió (Windspeed) dựa trên các điều kiện thời tiết.\n",
    "- Ý nghĩa của câu hỏi:\n",
    "    - Tốc độ gió ảnh hưởng trực tiếp đến an toàn giao thông, hàng không, hàng hải, và các dự án năng lượng gió.\n",
    "    - Dự đoán tốc độ gió giúp lập kế hoạch phòng tránh rủi ro từ thời tiết bất lợi.\n",
    "\n",
    "- Cách trả lời câu hỏi:\n",
    "    - **Chọn cột:**\n",
    "        - **Cột mục tiêu:** `Windspeed`.\n",
    "        - **Cột đặc trưng:** `Pressure`, `Temp`, `Humidity`, `Cloudcover`, `Visibility`, `Precip`, `Winddir`, `Solarradiation`, ...\n",
    "        - **Lý do chọn cột:** Các yếu tố này có ảnh hưởng lớn đến luồng không khí và tốc độ gió.\n",
    "\n",
    "    - **Kỹ thuật:**\n",
    "        - **Chuẩn bị dữ liệu:**\n",
    "            - Chuẩn hóa dữ liệu (normalization).\n",
    "        - **Chọn mô hình học máy:**\n",
    "            - Các mô hình hồi quy như Random Forest Regression, Gradient Boosting, Neural Networks.\n",
    "        - **Quy trình:**\n",
    "            - Chia dữ liệu thành tập huấn luyện (train), kiểm tra (test), và xác thực (validation).\n",
    "            - Huấn luyện mô hình và đánh giá bằng các chỉ số như MSE (Mean Squared Error), MAE (Mean Absolute Error)."
   ]
  }
 ],
 "metadata": {
  "language_info": {
   "name": "python"
  }
 },
 "nbformat": 4,
 "nbformat_minor": 2
}
